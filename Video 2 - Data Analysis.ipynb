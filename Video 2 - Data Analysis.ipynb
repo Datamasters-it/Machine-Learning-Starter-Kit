{
 "cells": [
  {
   "cell_type": "code",
   "execution_count": 1,
   "metadata": {
    "pycharm": {
     "name": "#%%\n"
    }
   },
   "outputs": [],
   "source": [
    "from datetime import datetime\n",
    "import numpy as np\n",
    "import pandas as pd\n",
    "import matplotlib.pyplot as plt\n",
    "import seaborn as sns\n",
    "\n",
    "pd.options.display.float_format = \"{:,.2f}\".format"
   ]
  },
  {
   "cell_type": "markdown",
   "metadata": {},
   "source": [
    "# **Analisi dati: clienti di un e-commerce**"
   ]
  },
  {
   "cell_type": "markdown",
   "metadata": {},
   "source": [
    "**Behavioral Data Science**\n",
    "\n",
    "_\"La combinazione multidisciplinare di Data Science e analisi del comportamento umano che rende possibile prendere decisioni strategiche\"_"
   ]
  },
  {
   "cell_type": "markdown",
   "metadata": {},
   "source": [
    "### **DataSet**\n",
    "\n",
    "Il dataset preso in esame contiene dati sul comportamento dei clienti di un grande negozio online multi-categoria ed è stato reso pubblico per una competizione su Kaggle (https://www.kaggle.com/mkechinov/ecommerce-behavior-data-from-multi-category-store).\n",
    "\n",
    "Ogni riga nel dataset rappresenta un evento(visualizzazione prodotto, inserimento nel carrello del prodotto, rimozione dal carello, acquisto).\n",
    "\n",
    "A causa delle dimensioni del dataset (14Gb) e dato lo scopo puramente didattico, analizzeremo solo i dati relativi al mese di ottobre."
   ]
  },
  {
   "cell_type": "markdown",
   "metadata": {},
   "source": [
    "# **Analisi dei Dati**\n"
   ]
  },
  {
   "cell_type": "markdown",
   "metadata": {},
   "source": [
    "# **Comprensione dei dati - Visualizzazione**\n"
   ]
  },
  {
   "cell_type": "code",
   "execution_count": 2,
   "metadata": {
    "pycharm": {
     "is_executing": true,
     "name": "#%%\n"
    }
   },
   "outputs": [],
   "source": [
    "df = pd.read_csv('2019-Oct.csv')"
   ]
  },
  {
   "cell_type": "code",
   "execution_count": 3,
   "metadata": {
    "pycharm": {
     "is_executing": true,
     "name": "#%%\n"
    }
   },
   "outputs": [
    {
     "data": {
      "text/html": [
       "<div>\n",
       "<style scoped>\n",
       "    .dataframe tbody tr th:only-of-type {\n",
       "        vertical-align: middle;\n",
       "    }\n",
       "\n",
       "    .dataframe tbody tr th {\n",
       "        vertical-align: top;\n",
       "    }\n",
       "\n",
       "    .dataframe thead th {\n",
       "        text-align: right;\n",
       "    }\n",
       "</style>\n",
       "<table border=\"1\" class=\"dataframe\">\n",
       "  <thead>\n",
       "    <tr style=\"text-align: right;\">\n",
       "      <th></th>\n",
       "      <th>event_time</th>\n",
       "      <th>event_type</th>\n",
       "      <th>product_id</th>\n",
       "      <th>category_id</th>\n",
       "      <th>category_code</th>\n",
       "      <th>brand</th>\n",
       "      <th>price</th>\n",
       "      <th>user_id</th>\n",
       "      <th>user_session</th>\n",
       "    </tr>\n",
       "  </thead>\n",
       "  <tbody>\n",
       "    <tr>\n",
       "      <th>0</th>\n",
       "      <td>2019-10-01 00:00:00 UTC</td>\n",
       "      <td>view</td>\n",
       "      <td>44600062</td>\n",
       "      <td>2103807459595387724</td>\n",
       "      <td>NaN</td>\n",
       "      <td>shiseido</td>\n",
       "      <td>35.79</td>\n",
       "      <td>541312140</td>\n",
       "      <td>72d76fde-8bb3-4e00-8c23-a032dfed738c</td>\n",
       "    </tr>\n",
       "    <tr>\n",
       "      <th>1</th>\n",
       "      <td>2019-10-01 00:00:00 UTC</td>\n",
       "      <td>view</td>\n",
       "      <td>3900821</td>\n",
       "      <td>2053013552326770905</td>\n",
       "      <td>appliances.environment.water_heater</td>\n",
       "      <td>aqua</td>\n",
       "      <td>33.20</td>\n",
       "      <td>554748717</td>\n",
       "      <td>9333dfbd-b87a-4708-9857-6336556b0fcc</td>\n",
       "    </tr>\n",
       "    <tr>\n",
       "      <th>2</th>\n",
       "      <td>2019-10-01 00:00:01 UTC</td>\n",
       "      <td>view</td>\n",
       "      <td>17200506</td>\n",
       "      <td>2053013559792632471</td>\n",
       "      <td>furniture.living_room.sofa</td>\n",
       "      <td>NaN</td>\n",
       "      <td>543.10</td>\n",
       "      <td>519107250</td>\n",
       "      <td>566511c2-e2e3-422b-b695-cf8e6e792ca8</td>\n",
       "    </tr>\n",
       "    <tr>\n",
       "      <th>3</th>\n",
       "      <td>2019-10-01 00:00:01 UTC</td>\n",
       "      <td>view</td>\n",
       "      <td>1307067</td>\n",
       "      <td>2053013558920217191</td>\n",
       "      <td>computers.notebook</td>\n",
       "      <td>lenovo</td>\n",
       "      <td>251.74</td>\n",
       "      <td>550050854</td>\n",
       "      <td>7c90fc70-0e80-4590-96f3-13c02c18c713</td>\n",
       "    </tr>\n",
       "    <tr>\n",
       "      <th>4</th>\n",
       "      <td>2019-10-01 00:00:04 UTC</td>\n",
       "      <td>view</td>\n",
       "      <td>1004237</td>\n",
       "      <td>2053013555631882655</td>\n",
       "      <td>electronics.smartphone</td>\n",
       "      <td>apple</td>\n",
       "      <td>1,081.98</td>\n",
       "      <td>535871217</td>\n",
       "      <td>c6bd7419-2748-4c56-95b4-8cec9ff8b80d</td>\n",
       "    </tr>\n",
       "  </tbody>\n",
       "</table>\n",
       "</div>"
      ],
      "text/plain": [
       "                event_time event_type  product_id          category_id  \\\n",
       "0  2019-10-01 00:00:00 UTC       view    44600062  2103807459595387724   \n",
       "1  2019-10-01 00:00:00 UTC       view     3900821  2053013552326770905   \n",
       "2  2019-10-01 00:00:01 UTC       view    17200506  2053013559792632471   \n",
       "3  2019-10-01 00:00:01 UTC       view     1307067  2053013558920217191   \n",
       "4  2019-10-01 00:00:04 UTC       view     1004237  2053013555631882655   \n",
       "\n",
       "                         category_code     brand    price    user_id  \\\n",
       "0                                  NaN  shiseido    35.79  541312140   \n",
       "1  appliances.environment.water_heater      aqua    33.20  554748717   \n",
       "2           furniture.living_room.sofa       NaN   543.10  519107250   \n",
       "3                   computers.notebook    lenovo   251.74  550050854   \n",
       "4               electronics.smartphone     apple 1,081.98  535871217   \n",
       "\n",
       "                           user_session  \n",
       "0  72d76fde-8bb3-4e00-8c23-a032dfed738c  \n",
       "1  9333dfbd-b87a-4708-9857-6336556b0fcc  \n",
       "2  566511c2-e2e3-422b-b695-cf8e6e792ca8  \n",
       "3  7c90fc70-0e80-4590-96f3-13c02c18c713  \n",
       "4  c6bd7419-2748-4c56-95b4-8cec9ff8b80d  "
      ]
     },
     "execution_count": 3,
     "metadata": {},
     "output_type": "execute_result"
    }
   ],
   "source": [
    "df.head()"
   ]
  },
  {
   "cell_type": "markdown",
   "metadata": {},
   "source": [
    "### **Descrizione dei dati**\n",
    "\n",
    "- **event_time**: Data e ora della generazione dell'evento (in UTC).\n",
    "- **event_type**: tipo di evento.\n",
    "- **product_id**: ID di un prodotto\n",
    "- **category_id**: ID della categoria di un prodotto\n",
    "- **category_code**: Categoria di prodotto (nome in codice), se possibile. Solitamente presente per categorie significative e ignorato per diverse tipologie di prodotti.\n",
    "- **brand**: Nome del Brand.\n",
    "- **price**: Prezzo del Prodotto.\n",
    "- **user_id**: ID di un utente registrato.\n",
    "- **user_session**: ID sessione dell'utente. Lo stesso per ogni sessione utente. Viene modificato ogni volta che l'utente torna al negozio online dopo una lunga pausa.\n",
    "\n",
    "\n",
    "Gli eventi possono essere:\n",
    "\n",
    "- visualizzazione: un utente ha visualizzato un prodotto\n",
    "- carrello: un utente ha aggiunto un prodotto al carrello\n",
    "- rimozione dal carello: un utente ha rimosso un prodotto dal carrello\n",
    "- acquisto: un utente ha acquistato un prodotto.\n",
    "\n",
    "Acquisti multipli per sessione: in una sessione possono esserci più eventi di acquisto."
   ]
  },
  {
   "cell_type": "code",
   "execution_count": 4,
   "metadata": {
    "pycharm": {
     "is_executing": true,
     "name": "#%%\n"
    }
   },
   "outputs": [
    {
     "name": "stdout",
     "output_type": "stream",
     "text": [
      "<class 'pandas.core.frame.DataFrame'>\n",
      "RangeIndex: 42448764 entries, 0 to 42448763\n",
      "Data columns (total 9 columns):\n",
      " #   Column         Dtype  \n",
      "---  ------         -----  \n",
      " 0   event_time     object \n",
      " 1   event_type     object \n",
      " 2   product_id     int64  \n",
      " 3   category_id    int64  \n",
      " 4   category_code  object \n",
      " 5   brand          object \n",
      " 6   price          float64\n",
      " 7   user_id        int64  \n",
      " 8   user_session   object \n",
      "dtypes: float64(1), int64(3), object(5)\n",
      "memory usage: 2.8+ GB\n"
     ]
    }
   ],
   "source": [
    "df.info()"
   ]
  },
  {
   "cell_type": "code",
   "execution_count": 5,
   "metadata": {
    "pycharm": {
     "is_executing": true,
     "name": "#%%\n"
    }
   },
   "outputs": [
    {
     "data": {
      "text/plain": [
       "(42448764, 9)"
      ]
     },
     "execution_count": 5,
     "metadata": {},
     "output_type": "execute_result"
    }
   ],
   "source": [
    "# L'attributo shape restituisce una tupla, che mostra quante righe e colonne abbiamo\n",
    "df.shape"
   ]
  },
  {
   "cell_type": "code",
   "execution_count": 6,
   "metadata": {
    "pycharm": {
     "is_executing": true,
     "name": "#%%\n"
    }
   },
   "outputs": [
    {
     "name": "stdout",
     "output_type": "stream",
     "text": [
      "Il dataset contiene 42448764 colonne e 9 righe\n"
     ]
    }
   ],
   "source": [
    "print(f'Il dataset contiene {df.shape[0]} colonne e {df.shape[1]} righe')"
   ]
  },
  {
   "cell_type": "code",
   "execution_count": 7,
   "metadata": {
    "pycharm": {
     "is_executing": true,
     "name": "#%%\n"
    }
   },
   "outputs": [
    {
     "name": "stdout",
     "output_type": "stream",
     "text": [
      "event_time              0\n",
      "event_type              0\n",
      "product_id              0\n",
      "category_id             0\n",
      "category_code    13515609\n",
      "brand             6117080\n",
      "price                   0\n",
      "user_id                 0\n",
      "user_session            2\n",
      "dtype: int64\n",
      "Valori nulli totali 19632691\n"
     ]
    }
   ],
   "source": [
    "# valutiamo il numero totale di valori mancanti.\n",
    "valori_nulli = df.isnull().sum()\n",
    "print(valori_nulli)\n",
    "\n",
    "print(f'Valori nulli totali {valori_nulli.sum()}')"
   ]
  },
  {
   "cell_type": "markdown",
   "metadata": {},
   "source": [
    "Solo 3 colonne hanno dati mancanti.\n"
   ]
  },
  {
   "cell_type": "code",
   "execution_count": 8,
   "metadata": {
    "pycharm": {
     "is_executing": true,
     "name": "#%%\n"
    }
   },
   "outputs": [
    {
     "name": "stdout",
     "output_type": "stream",
     "text": [
      "event_time      0.00\n",
      "event_type      0.00\n",
      "product_id      0.00\n",
      "category_id     0.00\n",
      "category_code   0.32\n",
      "brand           0.14\n",
      "price           0.00\n",
      "user_id         0.00\n",
      "user_session    0.00\n",
      "dtype: float64\n"
     ]
    }
   ],
   "source": [
    "#percentuale di valori mancanti\n",
    "print(df.isna().mean())"
   ]
  },
  {
   "cell_type": "code",
   "execution_count": 9,
   "metadata": {
    "pycharm": {
     "is_executing": true,
     "name": "#%%\n"
    }
   },
   "outputs": [
    {
     "name": "stdout",
     "output_type": "stream",
     "text": [
      "event_time        object\n",
      "event_type        object\n",
      "product_id         int64\n",
      "category_id        int64\n",
      "category_code     object\n",
      "brand             object\n",
      "price            float64\n",
      "user_id            int64\n",
      "user_session      object\n",
      "dtype: object\n"
     ]
    }
   ],
   "source": [
    "# identifichiamo il tipo dei dati\n",
    "print(df.dtypes)"
   ]
  },
  {
   "cell_type": "code",
   "execution_count": 10,
   "metadata": {
    "pycharm": {
     "is_executing": true,
     "name": "#%%\n"
    }
   },
   "outputs": [
    {
     "name": "stdout",
     "output_type": "stream",
     "text": [
      "Index(['event_time', 'event_type', 'product_id', 'category_id',\n",
      "       'category_code', 'brand', 'price', 'user_id', 'user_session'],\n",
      "      dtype='object')\n"
     ]
    }
   ],
   "source": [
    "# nomi delle colonne\n",
    "print(df.columns)"
   ]
  },
  {
   "cell_type": "code",
   "execution_count": 11,
   "metadata": {
    "pycharm": {
     "is_executing": true,
     "name": "#%%\n"
    }
   },
   "outputs": [
    {
     "name": "stdout",
     "output_type": "stream",
     "text": [
      "                    count                         mean  \\\n",
      "product_id  42,448,764.00                10,549,932.38   \n",
      "category_id 42,448,764.00 2,057,404,237,940,798,720.00   \n",
      "price       42,448,764.00                       290.32   \n",
      "user_id     42,448,764.00               533,537,147.51   \n",
      "\n",
      "                                  std                          min  \\\n",
      "product_id              11,881,906.97                 1,000,978.00   \n",
      "category_id 18,439,264,661,404,152.00 2,053,013,552,226,107,648.00   \n",
      "price                          358.27                         0.00   \n",
      "user_id                 18,523,738.17                33,869,381.00   \n",
      "\n",
      "                                     25%                          50%  \\\n",
      "product_id                  1,005,157.00                 5,000,470.00   \n",
      "category_id 2,053,013,555,464,110,592.00 2,053,013,555,631,882,752.00   \n",
      "price                              65.98                       162.93   \n",
      "user_id                   515,904,318.00               529,696,452.00   \n",
      "\n",
      "                                     75%                          max  \n",
      "product_id                 16,000,305.00                60,500,010.00  \n",
      "category_id 2,053,013,563,424,899,840.00 2,175,419,595,093,967,616.00  \n",
      "price                             358.57                     2,574.07  \n",
      "user_id                   551,578,838.25               566,280,860.00  \n"
     ]
    }
   ],
   "source": [
    "# Verifica dei dettagli statistici del dataset\n",
    "print(df.describe().transpose())"
   ]
  },
  {
   "cell_type": "markdown",
   "metadata": {},
   "source": [
    "Osserviamo che in questo dataset solo la colonna del prezzo dovrebbe essere numerica.\n",
    "Per ora si sta considerando \"product_id\", \"category_id\" e \"user_id\" come numerici. Cambiamolo."
   ]
  },
  {
   "cell_type": "code",
   "execution_count": 12,
   "metadata": {
    "pycharm": {
     "is_executing": true,
     "name": "#%%\n"
    }
   },
   "outputs": [],
   "source": [
    "# convertiamo il tipo di colonne\n",
    "df = df.astype({\"event_type\": 'category', \n",
    "                \"product_id\": 'category',\n",
    "                \"category_id\": 'category', \n",
    "                \"category_code\": 'category', \n",
    "                \"brand\": 'category',\n",
    "                \"user_id\": 'category', \n",
    "                \"user_session\": 'category'\n",
    "})"
   ]
  },
  {
   "cell_type": "markdown",
   "metadata": {},
   "source": [
    "occorre trasformare 'event_time' in datetime per poterlo utilizzare almeglio.\n",
    "con 'tz_convert(None)' rimuoviamo '+00' per comodità poichè tutti i dati appartengono allo stesso fuso orario"
   ]
  },
  {
   "cell_type": "code",
   "execution_count": 13,
   "metadata": {
    "pycharm": {
     "is_executing": true,
     "name": "#%%\n"
    }
   },
   "outputs": [],
   "source": [
    "df['event_time'] = pd.to_datetime(df['event_time']).dt.tz_convert(None)"
   ]
  },
  {
   "cell_type": "code",
   "execution_count": 14,
   "metadata": {
    "pycharm": {
     "is_executing": true,
     "name": "#%%\n"
    }
   },
   "outputs": [
    {
     "name": "stdout",
     "output_type": "stream",
     "text": [
      "event_time       datetime64[ns]\n",
      "event_type             category\n",
      "product_id             category\n",
      "category_id            category\n",
      "category_code          category\n",
      "brand                  category\n",
      "price                   float64\n",
      "user_id                category\n",
      "user_session           category\n",
      "dtype: object\n"
     ]
    }
   ],
   "source": [
    "# identifichiamo nuovamente il tipo dei dati\n",
    "print(df.dtypes)"
   ]
  },
  {
   "cell_type": "code",
   "execution_count": 15,
   "metadata": {
    "pycharm": {
     "is_executing": true,
     "name": "#%%\n"
    }
   },
   "outputs": [
    {
     "name": "stdout",
     "output_type": "stream",
     "text": [
      "              count   mean    std  min   25%    50%    75%      max\n",
      "price 42,448,764.00 290.32 358.27 0.00 65.98 162.93 358.57 2,574.07\n"
     ]
    }
   ],
   "source": [
    "# Verifica dei dettagli statistici del dataset\n",
    "print(df.describe().transpose())"
   ]
  },
  {
   "cell_type": "code",
   "execution_count": 16,
   "metadata": {
    "pycharm": {
     "is_executing": true,
     "name": "#%%\n"
    }
   },
   "outputs": [
    {
     "data": {
      "text/html": [
       "<div>\n",
       "<style scoped>\n",
       "    .dataframe tbody tr th:only-of-type {\n",
       "        vertical-align: middle;\n",
       "    }\n",
       "\n",
       "    .dataframe tbody tr th {\n",
       "        vertical-align: top;\n",
       "    }\n",
       "\n",
       "    .dataframe thead th {\n",
       "        text-align: right;\n",
       "    }\n",
       "</style>\n",
       "<table border=\"1\" class=\"dataframe\">\n",
       "  <thead>\n",
       "    <tr style=\"text-align: right;\">\n",
       "      <th></th>\n",
       "      <th>event_time</th>\n",
       "      <th>event_type</th>\n",
       "      <th>product_id</th>\n",
       "      <th>category_id</th>\n",
       "      <th>category_code</th>\n",
       "      <th>brand</th>\n",
       "      <th>price</th>\n",
       "      <th>user_id</th>\n",
       "      <th>user_session</th>\n",
       "    </tr>\n",
       "  </thead>\n",
       "  <tbody>\n",
       "    <tr>\n",
       "      <th>0</th>\n",
       "      <td>2019-10-01 00:00:00</td>\n",
       "      <td>view</td>\n",
       "      <td>44600062</td>\n",
       "      <td>2103807459595387724</td>\n",
       "      <td>NaN</td>\n",
       "      <td>shiseido</td>\n",
       "      <td>35.79</td>\n",
       "      <td>541312140</td>\n",
       "      <td>72d76fde-8bb3-4e00-8c23-a032dfed738c</td>\n",
       "    </tr>\n",
       "    <tr>\n",
       "      <th>1</th>\n",
       "      <td>2019-10-01 00:00:00</td>\n",
       "      <td>view</td>\n",
       "      <td>3900821</td>\n",
       "      <td>2053013552326770905</td>\n",
       "      <td>appliances.environment.water_heater</td>\n",
       "      <td>aqua</td>\n",
       "      <td>33.20</td>\n",
       "      <td>554748717</td>\n",
       "      <td>9333dfbd-b87a-4708-9857-6336556b0fcc</td>\n",
       "    </tr>\n",
       "    <tr>\n",
       "      <th>2</th>\n",
       "      <td>2019-10-01 00:00:01</td>\n",
       "      <td>view</td>\n",
       "      <td>17200506</td>\n",
       "      <td>2053013559792632471</td>\n",
       "      <td>furniture.living_room.sofa</td>\n",
       "      <td>NaN</td>\n",
       "      <td>543.10</td>\n",
       "      <td>519107250</td>\n",
       "      <td>566511c2-e2e3-422b-b695-cf8e6e792ca8</td>\n",
       "    </tr>\n",
       "  </tbody>\n",
       "</table>\n",
       "</div>"
      ],
      "text/plain": [
       "           event_time event_type product_id          category_id  \\\n",
       "0 2019-10-01 00:00:00       view   44600062  2103807459595387724   \n",
       "1 2019-10-01 00:00:00       view    3900821  2053013552326770905   \n",
       "2 2019-10-01 00:00:01       view   17200506  2053013559792632471   \n",
       "\n",
       "                         category_code     brand  price    user_id  \\\n",
       "0                                  NaN  shiseido  35.79  541312140   \n",
       "1  appliances.environment.water_heater      aqua  33.20  554748717   \n",
       "2           furniture.living_room.sofa       NaN 543.10  519107250   \n",
       "\n",
       "                           user_session  \n",
       "0  72d76fde-8bb3-4e00-8c23-a032dfed738c  \n",
       "1  9333dfbd-b87a-4708-9857-6336556b0fcc  \n",
       "2  566511c2-e2e3-422b-b695-cf8e6e792ca8  "
      ]
     },
     "execution_count": 16,
     "metadata": {},
     "output_type": "execute_result"
    }
   ],
   "source": [
    "df.head(3)"
   ]
  },
  {
   "cell_type": "markdown",
   "metadata": {},
   "source": [
    "## **Grafici ripielogativi**"
   ]
  },
  {
   "cell_type": "markdown",
   "metadata": {},
   "source": [
    "Quanti sono le mie statistiche giornaliere?\n"
   ]
  },
  {
   "cell_type": "code",
   "execution_count": 17,
   "metadata": {
    "pycharm": {
     "is_executing": true,
     "name": "#%%\n"
    }
   },
   "outputs": [],
   "source": [
    "#tabella visite e visitatori giornalieri\n",
    "tabella_giornaliera = df.groupby(\n",
    "    by=[df['event_time'].dt.normalize()]).agg(\n",
    "    visite_giornaliere=('user_session', lambda x: x.nunique()),\n",
    "    visitatori_giornalieri=('user_id', lambda x: x.nunique())\n",
    ")\n",
    "\n",
    "#tabella vendite giornaliere\n",
    "filtro_vendite = df['event_type'] == 'purchase'\n",
    "vendite = df.loc[filtro_vendite].groupby(by=[df['event_time'].dt.normalize()]).agg(\n",
    "    numero_vendite_giornaliere=('event_type', 'count'),\n",
    "    vendite_totali_giornaliere=('price', 'sum')\n",
    ").reset_index()\n",
    "\n",
    "# tabella complessiva statistiche giornaliere\n",
    "tabella_giornaliera = pd.merge(left=tabella_giornaliera,\n",
    "                               right=vendite,\n",
    "                               left_on=['event_time'],\n",
    "                               right_on=['event_time'],\n",
    "                               how='left')\n",
    "\n",
    "tabella_giornaliera['percentuale_di_conversioni'] = tabella_giornaliera['numero_vendite_giornaliere'] / tabella_giornaliera[\n",
    "    'visite_giornaliere']"
   ]
  },
  {
   "cell_type": "code",
   "execution_count": 18,
   "metadata": {
    "pycharm": {
     "is_executing": true,
     "name": "#%%\n"
    }
   },
   "outputs": [
    {
     "data": {
      "text/html": [
       "<div>\n",
       "<style scoped>\n",
       "    .dataframe tbody tr th:only-of-type {\n",
       "        vertical-align: middle;\n",
       "    }\n",
       "\n",
       "    .dataframe tbody tr th {\n",
       "        vertical-align: top;\n",
       "    }\n",
       "\n",
       "    .dataframe thead th {\n",
       "        text-align: right;\n",
       "    }\n",
       "</style>\n",
       "<table border=\"1\" class=\"dataframe\">\n",
       "  <thead>\n",
       "    <tr style=\"text-align: right;\">\n",
       "      <th></th>\n",
       "      <th>event_time</th>\n",
       "      <th>visite_giornaliere</th>\n",
       "      <th>visitatori_giornalieri</th>\n",
       "      <th>numero_vendite_giornaliere</th>\n",
       "      <th>vendite_totali_giornaliere</th>\n",
       "      <th>percentuale_di_conversioni</th>\n",
       "    </tr>\n",
       "  </thead>\n",
       "  <tbody>\n",
       "    <tr>\n",
       "      <th>0</th>\n",
       "      <td>2019-10-01</td>\n",
       "      <td>268737</td>\n",
       "      <td>190188</td>\n",
       "      <td>19307</td>\n",
       "      <td>6,275,964.01</td>\n",
       "      <td>0.07</td>\n",
       "    </tr>\n",
       "    <tr>\n",
       "      <th>1</th>\n",
       "      <td>2019-10-02</td>\n",
       "      <td>261252</td>\n",
       "      <td>184965</td>\n",
       "      <td>19469</td>\n",
       "      <td>6,213,628.53</td>\n",
       "      <td>0.07</td>\n",
       "    </tr>\n",
       "    <tr>\n",
       "      <th>2</th>\n",
       "      <td>2019-10-03</td>\n",
       "      <td>241086</td>\n",
       "      <td>170668</td>\n",
       "      <td>19255</td>\n",
       "      <td>6,233,782.98</td>\n",
       "      <td>0.08</td>\n",
       "    </tr>\n",
       "  </tbody>\n",
       "</table>\n",
       "</div>"
      ],
      "text/plain": [
       "  event_time  visite_giornaliere  visitatori_giornalieri  \\\n",
       "0 2019-10-01              268737                  190188   \n",
       "1 2019-10-02              261252                  184965   \n",
       "2 2019-10-03              241086                  170668   \n",
       "\n",
       "   numero_vendite_giornaliere  vendite_totali_giornaliere  \\\n",
       "0                       19307                6,275,964.01   \n",
       "1                       19469                6,213,628.53   \n",
       "2                       19255                6,233,782.98   \n",
       "\n",
       "   percentuale_di_conversioni  \n",
       "0                        0.07  \n",
       "1                        0.07  \n",
       "2                        0.08  "
      ]
     },
     "execution_count": 18,
     "metadata": {},
     "output_type": "execute_result"
    }
   ],
   "source": [
    "tabella_giornaliera.head(3)"
   ]
  },
  {
   "cell_type": "markdown",
   "metadata": {},
   "source": [
    "Quante visite riceve il sito?"
   ]
  },
  {
   "cell_type": "code",
   "execution_count": 19,
   "metadata": {
    "pycharm": {
     "is_executing": true,
     "name": "#%%\n"
    },
    "scrolled": true
   },
   "outputs": [
    {
     "name": "stdout",
     "output_type": "stream",
     "text": [
      "Statistiche delle visite giornaliere\n",
      "--------------------------------------------------\n",
      "count        31.00\n",
      "mean    299,510.55\n",
      "std      25,531.55\n",
      "min     241,086.00\n",
      "25%     278,957.50\n",
      "50%     301,219.00\n",
      "75%     319,668.50\n",
      "max     339,943.00\n",
      "Name: visite_giornaliere, dtype: float64\n",
      "--------------------------------------------------\n",
      "Statistica per data\n",
      "--------------------------------------------------\n",
      "            count       mean       std        min        25%        50%  \\\n",
      "event_time                                                                \n",
      "Domenica     4.00 309,080.00 32,756.35 273,034.00 285,634.75 311,671.50   \n",
      "Giovedì      5.00 282,820.60 24,557.36 241,086.00 281,446.00 293,587.00   \n",
      "Lunedì       4.00 293,353.00 26,033.15 263,437.00 276,610.00 294,346.50   \n",
      "Martedì      5.00 301,032.40 27,672.77 268,737.00 276,723.00 308,348.00   \n",
      "Mercoledì    5.00 295,314.60 27,194.96 261,252.00 274,906.00 301,219.00   \n",
      "Sabato       4.00 298,041.75 19,140.22 276,914.00 286,412.75 296,976.50   \n",
      "Venerdì      4.00 321,772.50 16,017.26 300,651.00 313,704.00 325,731.00   \n",
      "\n",
      "                  75%        max  \n",
      "event_time                        \n",
      "Domenica   335,116.75 339,943.00  \n",
      "Giovedì    295,142.00 302,842.00  \n",
      "Lunedì     311,089.50 321,282.00  \n",
      "Martedì    316,706.00 334,648.00  \n",
      "Mercoledì  310,453.00 328,743.00  \n",
      "Sabato     308,605.50 321,300.00  \n",
      "Venerdì    333,799.50 334,977.00  \n"
     ]
    }
   ],
   "source": [
    "#Visite giornaliere\n",
    "print('Statistiche delle visite giornaliere')\n",
    "print('-'*50)\n",
    "print(tabella_giornaliera['visite_giornaliere'].describe())\n",
    "print('-'*50)\n",
    "print('Statistica per data')\n",
    "print('-'*50)\n",
    "print(tabella_giornaliera.groupby(by=tabella_giornaliera['event_time'].dt.day_name(locale='Italian'))['visite_giornaliere'].describe())"
   ]
  },
  {
   "cell_type": "code",
   "execution_count": 20,
   "metadata": {
    "pycharm": {
     "is_executing": true,
     "name": "#%%\n"
    },
    "scrolled": true
   },
   "outputs": [
    {
     "data": {
      "image/png": "[encoded data removed]",
      "text/plain": [
       "<Figure size 1296x648 with 2 Axes>"
      ]
     },
     "metadata": {
      "needs_background": "light"
     },
     "output_type": "display_data"
    }
   ],
   "source": [
    "#Plottiamo Visite giornaliere\n",
    "fig = plt.figure(figsize=(18, 9))\n",
    "\n",
    "ax1 = fig.add_subplot(2, 1, 1)\n",
    "sns.barplot(x=tabella_giornaliera['event_time'].dt.date,\n",
    "            y='visite_giornaliere',\n",
    "            data=tabella_giornaliera,\n",
    "            ax=ax1\n",
    ")\n",
    "plt.xticks(rotation=90)\n",
    "\n",
    "plt.title('Numero di visite per data')\n",
    "plt.ylabel('Numero di visite')\n",
    "plt.xlabel('data')\n",
    "\n",
    "ax2 = fig.add_subplot(2, 1, 2)\n",
    "\n",
    "sns.boxplot(x=tabella_giornaliera['event_time'].dt.day_name(locale='Italian'),\n",
    "            y='visite_giornaliere',\n",
    "            data=tabella_giornaliera,\n",
    "            ax=ax2\n",
    ")\n",
    "plt.title('Numero di visite per giorno della settimana')\n",
    "plt.ylabel('Numero di visite')\n",
    "plt.xlabel('Giorni')\n",
    "fig.tight_layout(pad=3.0)\n",
    "plt.show()"
   ]
  },
  {
   "cell_type": "markdown",
   "metadata": {},
   "source": [
    "Quanti clienti visitano il sito?"
   ]
  },
  {
   "cell_type": "code",
   "execution_count": 21,
   "metadata": {
    "pycharm": {
     "is_executing": true,
     "name": "#%%\n"
    }
   },
   "outputs": [
    {
     "name": "stdout",
     "output_type": "stream",
     "text": [
      "Statistiche dei visitatori giornalieri\n",
      "--------------------------------------------------\n",
      "count        31.00\n",
      "mean    208,829.77\n",
      "std      16,233.61\n",
      "min     170,668.00\n",
      "25%     195,260.50\n",
      "50%     208,477.00\n",
      "75%     223,321.00\n",
      "max     231,849.00\n",
      "Name: visitatori_giornalieri, dtype: float64\n",
      "--------------------------------------------------\n",
      "Statistica per data\n",
      "--------------------------------------------------\n",
      "            count       mean       std        min        25%        50%  \\\n",
      "event_time                                                                \n",
      "Domenica     4.00 213,090.00 18,707.44 193,210.00 199,321.75 213,650.50   \n",
      "Giovedì      5.00 197,994.80 15,736.89 170,668.00 198,571.00 205,321.00   \n",
      "Lunedì       4.00 204,218.00 16,732.50 186,951.00 193,410.00 202,326.00   \n",
      "Martedì      5.00 211,615.80 18,526.04 190,188.00 193,168.00 221,204.00   \n",
      "Mercoledì    5.00 208,073.80 18,982.96 184,965.00 191,965.00 214,140.00   \n",
      "Sabato       4.00 205,851.25  9,731.79 194,958.00 200,368.50 205,263.50   \n",
      "Venerdì      4.00 223,166.00  9,715.30 209,410.00 219,796.00 226,360.50   \n",
      "\n",
      "                  75%        max  \n",
      "event_time                        \n",
      "Domenica   227,418.75 231,849.00  \n",
      "Giovedì    206,937.00 208,477.00  \n",
      "Lunedì     213,134.00 225,269.00  \n",
      "Martedì    223,384.00 230,135.00  \n",
      "Mercoledì  219,100.00 230,199.00  \n",
      "Sabato     210,746.25 217,920.00  \n",
      "Venerdì    229,730.50 230,533.00  \n"
     ]
    }
   ],
   "source": [
    "#Visite giornaliere\n",
    "print('Statistiche dei visitatori giornalieri')\n",
    "print('-'*50)\n",
    "print(tabella_giornaliera['visitatori_giornalieri'].describe())\n",
    "print('-'*50)\n",
    "print('Statistica per data')\n",
    "print('-'*50)\n",
    "print(tabella_giornaliera.groupby(by=tabella_giornaliera['event_time'].dt.day_name(locale='Italian'))['visitatori_giornalieri'].describe())"
   ]
  },
  {
   "cell_type": "code",
   "execution_count": 22,
   "metadata": {
    "pycharm": {
     "is_executing": true,
     "name": "#%%\n"
    }
   },
   "outputs": [
    {
     "data": {
      "image/png": "[encoded data removed]",
      "text/plain": [
       "<Figure size 1296x648 with 2 Axes>"
      ]
     },
     "metadata": {
      "needs_background": "light"
     },
     "output_type": "display_data"
    }
   ],
   "source": [
    "#Plottiamo Visitatori giornalieri\n",
    "fig = plt.figure(figsize=(18, 9))\n",
    "\n",
    "ax1 = fig.add_subplot(2, 1, 1)\n",
    "sns.barplot(x=tabella_giornaliera['event_time'].dt.date,\n",
    "             y='visitatori_giornalieri',\n",
    "             data=tabella_giornaliera,\n",
    "             ax=ax1)\n",
    "plt.xticks(rotation=90)\n",
    "\n",
    "plt.title('Numero di visitatori per data')\n",
    "plt.ylabel('Numero di visitatori')\n",
    "plt.xlabel('data')\n",
    "\n",
    "ax2 = fig.add_subplot(2, 1, 2)\n",
    "\n",
    "sns.boxplot(x=tabella_giornaliera['event_time'].dt.day_name(locale='Italian'),\n",
    "            y='visitatori_giornalieri',\n",
    "            data=tabella_giornaliera,\n",
    "            ax=ax2)\n",
    "plt.title('Numero di visitatori per giorno della settimana')\n",
    "plt.ylabel('Numero di visitatori')\n",
    "plt.xlabel('Giorni')\n",
    "fig.tight_layout(pad=3.0)\n",
    "plt.show()"
   ]
  },
  {
   "cell_type": "markdown",
   "metadata": {},
   "source": [
    "Quante vendite effettua il sito?"
   ]
  },
  {
   "cell_type": "code",
   "execution_count": 23,
   "metadata": {
    "pycharm": {
     "is_executing": true,
     "name": "#%%\n"
    }
   },
   "outputs": [
    {
     "name": "stdout",
     "output_type": "stream",
     "text": [
      "Statistiche del numero di vendite giornaliere\n",
      "--------------------------------------------------\n",
      "count       31.00\n",
      "mean    23,962.87\n",
      "std      3,083.28\n",
      "min     19,255.00\n",
      "25%     21,685.50\n",
      "50%     23,929.00\n",
      "75%     25,617.50\n",
      "max     31,394.00\n",
      "Name: numero_vendite_giornaliere, dtype: float64\n",
      "--------------------------------------------------\n",
      "Statistica per data\n",
      "--------------------------------------------------\n",
      "            count      mean      std       min       25%       50%       75%  \\\n",
      "event_time                                                                     \n",
      "Domenica     4.00 25,058.25 3,232.77 22,171.00 23,095.00 24,250.50 26,213.75   \n",
      "Giovedì      5.00 22,732.80 3,618.60 19,255.00 20,099.00 21,993.00 23,999.00   \n",
      "Lunedì       4.00 24,015.50 3,463.16 21,112.00 21,311.50 23,272.50 25,976.50   \n",
      "Martedì      5.00 22,902.00 3,063.90 19,307.00 20,374.00 23,072.00 25,385.00   \n",
      "Mercoledì    5.00 23,831.80 4,671.54 19,469.00 20,817.00 22,748.00 24,731.00   \n",
      "Sabato       4.00 24,044.25 1,208.22 22,653.00 23,283.75 24,075.50 24,836.00   \n",
      "Venerdì      4.00 25,761.00 1,318.70 23,929.00 25,369.75 26,037.00 26,428.25   \n",
      "\n",
      "                 max  \n",
      "event_time            \n",
      "Domenica   29,561.00  \n",
      "Giovedì    28,318.00  \n",
      "Lunedì     28,405.00  \n",
      "Martedì    26,372.00  \n",
      "Mercoledì  31,394.00  \n",
      "Sabato     25,373.00  \n",
      "Venerdì    27,041.00  \n"
     ]
    }
   ],
   "source": [
    "#Visite giornaliere\n",
    "print('Statistiche del numero di vendite giornaliere')\n",
    "print('-'*50)\n",
    "print(tabella_giornaliera['numero_vendite_giornaliere'].describe())\n",
    "print('-'*50)\n",
    "print('Statistica per data')\n",
    "print('-'*50)\n",
    "print(tabella_giornaliera.groupby(by=tabella_giornaliera['event_time'].dt.day_name(locale='Italian'))['numero_vendite_giornaliere'].describe())"
   ]
  },
  {
   "cell_type": "code",
   "execution_count": 24,
   "metadata": {
    "pycharm": {
     "is_executing": true,
     "name": "#%%\n"
    }
   },
   "outputs": [
    {
     "data": {
      "image/png": "[encoded data removed]",
      "text/plain": [
       "<Figure size 1296x648 with 2 Axes>"
      ]
     },
     "metadata": {
      "needs_background": "light"
     },
     "output_type": "display_data"
    }
   ],
   "source": [
    "#Plottiamo il numero di vendite giornaliere\n",
    "fig = plt.figure(figsize=(18, 9))\n",
    "\n",
    "ax1 = fig.add_subplot(2, 1, 1)\n",
    "sns.barplot(x=tabella_giornaliera['event_time'].dt.date,\n",
    "             y='numero_vendite_giornaliere',\n",
    "             data=tabella_giornaliera,\n",
    "             ax=ax1)\n",
    "plt.xticks(rotation=90)\n",
    "\n",
    "plt.title('Numero di vendite per data')\n",
    "plt.ylabel('Numero di vendite')\n",
    "plt.xlabel('data')\n",
    "\n",
    "ax2 = fig.add_subplot(2, 1, 2)\n",
    "\n",
    "sns.boxplot(x=tabella_giornaliera['event_time'].dt.day_name(locale='Italian'),\n",
    "            y='numero_vendite_giornaliere',\n",
    "            data=tabella_giornaliera,\n",
    "            ax=ax2)\n",
    "plt.title('Numero di vendite per giorno della settimana')\n",
    "plt.ylabel('Numero di vendite')\n",
    "plt.xlabel('Giorni')\n",
    "fig.tight_layout(pad=3.0)\n",
    "plt.show()"
   ]
  },
  {
   "cell_type": "markdown",
   "metadata": {},
   "source": [
    "Quale il totale delle vendite del sito?"
   ]
  },
  {
   "cell_type": "code",
   "execution_count": 25,
   "metadata": {
    "pycharm": {
     "is_executing": true,
     "name": "#%%\n"
    }
   },
   "outputs": [
    {
     "name": "stdout",
     "output_type": "stream",
     "text": [
      "Statistiche delle vendite giornaliere\n",
      "--------------------------------------------------\n",
      "count          31.00\n",
      "mean    7,417,983.94\n",
      "std       957,790.58\n",
      "min     6,213,628.53\n",
      "25%     6,649,835.19\n",
      "50%     7,307,691.57\n",
      "75%     7,888,664.02\n",
      "max     9,747,239.24\n",
      "Name: vendite_totali_giornaliere, dtype: float64\n",
      "--------------------------------------------------\n",
      "Statistica per data\n",
      "--------------------------------------------------\n",
      "            count         mean          std          min          25%  \\\n",
      "event_time                                                              \n",
      "Domenica     4.00 7,477,360.28   727,391.19 6,737,660.78 7,083,260.81   \n",
      "Giovedì      5.00 7,170,467.48 1,137,489.01 6,233,782.98 6,456,465.80   \n",
      "Lunedì       4.00 7,539,810.99 1,381,315.12 6,348,189.06 6,530,843.44   \n",
      "Martedì      5.00 7,219,398.61 1,025,462.09 6,275,964.01 6,433,438.43   \n",
      "Mercoledì    5.00 7,413,163.99 1,400,503.96 6,213,628.53 6,634,069.51   \n",
      "Sabato       4.00 7,282,342.67   268,120.21 6,917,602.84 7,210,169.39   \n",
      "Venerdì      4.00 7,936,074.03   589,354.94 7,248,617.98 7,599,310.91   \n",
      "\n",
      "                    50%          75%          max  \n",
      "event_time                                         \n",
      "Domenica   7,357,086.93 7,751,186.40 8,457,606.49  \n",
      "Giovedì    6,665,600.86 7,470,344.60 9,026,143.14  \n",
      "Lunedì     7,227,181.62 8,236,149.16 9,356,691.65  \n",
      "Martedì    6,819,832.28 7,914,693.04 8,653,065.29  \n",
      "Mercoledì  6,855,511.13 7,615,371.54 9,747,239.24  \n",
      "Sabato     7,324,644.24 7,396,817.52 7,562,479.36  \n",
      "Venerdì    7,935,996.84 8,272,759.96 8,623,684.47  \n"
     ]
    }
   ],
   "source": [
    "#Visite giornaliere\n",
    "print('Statistiche delle vendite giornaliere')\n",
    "print('-'*50)\n",
    "print(tabella_giornaliera['vendite_totali_giornaliere'].describe())\n",
    "print('-'*50)\n",
    "print('Statistica per data')\n",
    "print('-'*50)\n",
    "print(tabella_giornaliera.groupby(by=tabella_giornaliera['event_time'].dt.day_name(locale='Italian'))['vendite_totali_giornaliere'].describe())"
   ]
  },
  {
   "cell_type": "code",
   "execution_count": 26,
   "metadata": {
    "pycharm": {
     "is_executing": true,
     "name": "#%%\n"
    }
   },
   "outputs": [
    {
     "data": {
      "image/png": "[encoded data removed]",
      "text/plain": [
       "<Figure size 1296x648 with 2 Axes>"
      ]
     },
     "metadata": {
      "needs_background": "light"
     },
     "output_type": "display_data"
    }
   ],
   "source": [
    "#Plottiamo le vendite giornaliere\n",
    "fig = plt.figure(figsize=(18, 9))\n",
    "\n",
    "ax1 = fig.add_subplot(2, 1, 1)\n",
    "sns.barplot(x=tabella_giornaliera['event_time'].dt.date,\n",
    "            y='vendite_totali_giornaliere',\n",
    "            data=tabella_giornaliera,\n",
    "            ax=ax1)\n",
    "plt.xticks(rotation=90)\n",
    "\n",
    "plt.title('Vendite per data')\n",
    "plt.ylabel('Vendite')\n",
    "plt.xlabel('data')\n",
    "\n",
    "ax2 = fig.add_subplot(2, 1, 2)\n",
    "\n",
    "sns.boxplot(x=tabella_giornaliera['event_time'].dt.day_name(locale='Italian'),\n",
    "            y='vendite_totali_giornaliere',\n",
    "            data=tabella_giornaliera,\n",
    "            ax=ax2)\n",
    "plt.title('Vendite per giornodella settimana')\n",
    "plt.ylabel('Vendite')\n",
    "plt.xlabel('Giorni')\n",
    "fig.tight_layout(pad=3.0)\n",
    "plt.show()"
   ]
  },
  {
   "cell_type": "markdown",
   "metadata": {},
   "source": [
    "## **Analisi acquisti clienti**\n",
    "\n"
   ]
  },
  {
   "cell_type": "code",
   "execution_count": 27,
   "metadata": {
    "pycharm": {
     "is_executing": true,
     "name": "#%%\n"
    }
   },
   "outputs": [],
   "source": [
    "#selezioniamo i clienti che hanno acquistato qualcosa\n",
    "filtro_vendite = df['event_type'] == 'purchase'\n",
    "tabella_clienti = df.loc[filtro_vendite].groupby(\n",
    "    by=['user_id']).agg(numero_di_acquisti=('user_id', 'count'),\n",
    "    totale_vendite=('price', 'sum')).reset_index()"
   ]
  },
  {
   "cell_type": "code",
   "execution_count": 28,
   "metadata": {
    "pycharm": {
     "is_executing": true,
     "name": "#%%\n"
    }
   },
   "outputs": [
    {
     "data": {
      "text/html": [
       "<div>\n",
       "<style scoped>\n",
       "    .dataframe tbody tr th:only-of-type {\n",
       "        vertical-align: middle;\n",
       "    }\n",
       "\n",
       "    .dataframe tbody tr th {\n",
       "        vertical-align: top;\n",
       "    }\n",
       "\n",
       "    .dataframe thead th {\n",
       "        text-align: right;\n",
       "    }\n",
       "</style>\n",
       "<table border=\"1\" class=\"dataframe\">\n",
       "  <thead>\n",
       "    <tr style=\"text-align: right;\">\n",
       "      <th></th>\n",
       "      <th>user_id</th>\n",
       "      <th>numero_di_acquisti</th>\n",
       "      <th>totale_vendite</th>\n",
       "    </tr>\n",
       "  </thead>\n",
       "  <tbody>\n",
       "    <tr>\n",
       "      <th>0</th>\n",
       "      <td>33869381</td>\n",
       "      <td>0</td>\n",
       "      <td>0.00</td>\n",
       "    </tr>\n",
       "    <tr>\n",
       "      <th>1</th>\n",
       "      <td>64078358</td>\n",
       "      <td>0</td>\n",
       "      <td>0.00</td>\n",
       "    </tr>\n",
       "    <tr>\n",
       "      <th>2</th>\n",
       "      <td>183503497</td>\n",
       "      <td>0</td>\n",
       "      <td>0.00</td>\n",
       "    </tr>\n",
       "  </tbody>\n",
       "</table>\n",
       "</div>"
      ],
      "text/plain": [
       "     user_id  numero_di_acquisti  totale_vendite\n",
       "0   33869381                   0            0.00\n",
       "1   64078358                   0            0.00\n",
       "2  183503497                   0            0.00"
      ]
     },
     "execution_count": 28,
     "metadata": {},
     "output_type": "execute_result"
    }
   ],
   "source": [
    "tabella_clienti.head(3)"
   ]
  },
  {
   "cell_type": "code",
   "execution_count": 29,
   "metadata": {
    "pycharm": {
     "is_executing": true,
     "name": "#%%\n"
    }
   },
   "outputs": [
    {
     "name": "stdout",
     "output_type": "stream",
     "text": [
      "Ci sono 347,118 clienti che hanno fatto almeno un acquisto ad Ottobre.\n",
      "--------------------------------------------------\n",
      "Distribuzione dei Clienti per acquisti\n",
      "0   0.89\n",
      "1   0.07\n",
      "2   0.02\n",
      "3   0.01\n",
      "4   0.00\n",
      "5   0.00\n",
      "6   0.00\n",
      "7   0.00\n",
      "8   0.00\n",
      "9   0.00\n",
      "Name: numero_di_acquisti, dtype: float64\n",
      "--------------------------------------------------\n",
      "Ci sono 131,427 clienti che hanno fatto più di un acquisto ad Ottobr.(Repeat Customer)\n"
     ]
    }
   ],
   "source": [
    "#Calcoliamo il numero di clienti che comprano qualcosa\n",
    "numero_client_con_acquisti = tabella_clienti.loc[tabella_clienti.numero_di_acquisti>0,'user_id'].nunique()\n",
    "print('Ci sono {:,.0f} clienti che hanno fatto almeno un acquisto ad Ottobre.'.format(numero_client_con_acquisti))\n",
    "\n",
    "#Calculating number of purchase activities for each customer\n",
    "print('-' * 50)\n",
    "print('Distribuzione dei Clienti per acquisti')\n",
    "print(tabella_clienti['numero_di_acquisti'].value_counts(normalize=True).head(10))\n",
    "#Calculationg repeat customers number\n",
    "print('-' * 50)\n",
    "filtro_più_di_un_acquisto = tabella_clienti['numero_di_acquisti'] > 1\n",
    "numero_di_clienti_con_più_di_un_acquisto = tabella_clienti.loc[filtro_più_di_un_acquisto].shape[0]\n",
    "print('Ci sono {:,.0f} clienti che hanno fatto più di un acquisto ad Ottobr.(Repeat Customer)'.format(\n",
    "    numero_di_clienti_con_più_di_un_acquisto))"
   ]
  },
  {
   "cell_type": "code",
   "execution_count": 30,
   "metadata": {
    "pycharm": {
     "is_executing": true,
     "name": "#%%\n"
    }
   },
   "outputs": [
    {
     "name": "stdout",
     "output_type": "stream",
     "text": [
      "--------------------------------------------------\n",
      "Distribuzione dei Clienti per acquisti\n",
      "1    0.62\n",
      "2    0.19\n",
      "3    0.07\n",
      "4    0.04\n",
      "5    0.02\n",
      "6    0.01\n",
      "7    0.01\n",
      "8    0.01\n",
      "9    0.00\n",
      "10   0.00\n",
      "Name: numero_di_acquisti, dtype: float64\n",
      "--------------------------------------------------\n"
     ]
    }
   ],
   "source": [
    "#selezioniamo i clienti che hanno fatto almeno un acquisto\n",
    "tabella_clienti = tabella_clienti.loc[tabella_clienti.numero_di_acquisti>0]\n",
    "print('-' * 50)\n",
    "print('Distribuzione dei Clienti per acquisti')\n",
    "print(tabella_clienti['numero_di_acquisti'].value_counts(normalize=True).head(10))\n",
    "print('-' * 50)"
   ]
  },
  {
   "cell_type": "code",
   "execution_count": 31,
   "metadata": {
    "pycharm": {
     "is_executing": true,
     "name": "#%%\n"
    }
   },
   "outputs": [],
   "source": [
    "#filtraggio valori anomali\n",
    "soglia_vendite = np.percentile(tabella_clienti['totale_vendite'], [5, 95])\n",
    "filtro_soglia_vendite = np.logical_and(tabella_clienti['totale_vendite'] >= soglia_vendite[0],\n",
    "                                       tabella_clienti['totale_vendite'] <= soglia_vendite[1])\n",
    "filtro_vendite = tabella_clienti.loc[filtro_soglia_vendite]"
   ]
  },
  {
   "cell_type": "code",
   "execution_count": 32,
   "metadata": {
    "pycharm": {
     "is_executing": true,
     "name": "#%%\n"
    }
   },
   "outputs": [
    {
     "data": {
      "text/html": [
       "<div>\n",
       "<style scoped>\n",
       "    .dataframe tbody tr th:only-of-type {\n",
       "        vertical-align: middle;\n",
       "    }\n",
       "\n",
       "    .dataframe tbody tr th {\n",
       "        vertical-align: top;\n",
       "    }\n",
       "\n",
       "    .dataframe thead th {\n",
       "        text-align: right;\n",
       "    }\n",
       "</style>\n",
       "<table border=\"1\" class=\"dataframe\">\n",
       "  <thead>\n",
       "    <tr style=\"text-align: right;\">\n",
       "      <th></th>\n",
       "      <th>user_id</th>\n",
       "      <th>numero_di_acquisti</th>\n",
       "      <th>totale_vendite</th>\n",
       "    </tr>\n",
       "  </thead>\n",
       "  <tbody>\n",
       "    <tr>\n",
       "      <th>56</th>\n",
       "      <td>264649825</td>\n",
       "      <td>2</td>\n",
       "      <td>1,240.04</td>\n",
       "    </tr>\n",
       "    <tr>\n",
       "      <th>144</th>\n",
       "      <td>303160429</td>\n",
       "      <td>1</td>\n",
       "      <td>340.59</td>\n",
       "    </tr>\n",
       "    <tr>\n",
       "      <th>266</th>\n",
       "      <td>340041246</td>\n",
       "      <td>4</td>\n",
       "      <td>915.52</td>\n",
       "    </tr>\n",
       "  </tbody>\n",
       "</table>\n",
       "</div>"
      ],
      "text/plain": [
       "       user_id  numero_di_acquisti  totale_vendite\n",
       "56   264649825                   2        1,240.04\n",
       "144  303160429                   1          340.59\n",
       "266  340041246                   4          915.52"
      ]
     },
     "execution_count": 32,
     "metadata": {},
     "output_type": "execute_result"
    }
   ],
   "source": [
    "filtro_vendite.head(3)"
   ]
  },
  {
   "cell_type": "code",
   "execution_count": 33,
   "metadata": {
    "pycharm": {
     "is_executing": true,
     "name": "#%%\n"
    }
   },
   "outputs": [
    {
     "name": "stdout",
     "output_type": "stream",
     "text": [
      "--------------------------------------------------\n",
      "Tabella clienti completa\n",
      "       numero_di_acquisti  totale_vendite\n",
      "count          347,118.00      347,118.00\n",
      "mean                 2.14          662.48\n",
      "std                  3.64        2,074.37\n",
      "min                  1.00            0.88\n",
      "25%                  1.00          107.59\n",
      "50%                  1.00          246.52\n",
      "75%                  2.00          595.01\n",
      "max                322.00      265,569.52\n",
      "--------------------------------------------------\n",
      "Tabella clienti senza valori anomali\n",
      "       numero_di_acquisti  totale_vendite\n",
      "count          312,437.00      312,437.00\n",
      "mean                 1.75          419.01\n",
      "std                  1.56          454.73\n",
      "min                  1.00           28.51\n",
      "25%                  1.00          123.50\n",
      "50%                  1.00          246.52\n",
      "75%                  2.00          535.15\n",
      "max                 60.00        2,339.25\n",
      "--------------------------------------------------\n"
     ]
    }
   ],
   "source": [
    "print('-' * 50)\n",
    "print('Tabella clienti completa')\n",
    "print(tabella_clienti.describe())\n",
    "\n",
    "print('-' * 50)\n",
    "print('Tabella clienti senza valori anomali')\n",
    "print(filtro_vendite.describe())\n",
    "print('-' * 50)"
   ]
  },
  {
   "cell_type": "code",
   "execution_count": 34,
   "metadata": {
    "pycharm": {
     "is_executing": true,
     "name": "#%%\n"
    },
    "scrolled": true
   },
   "outputs": [
    {
     "data": {
      "image/png": "[encoded data removed]",
      "text/plain": [
       "<Figure size 864x864 with 1 Axes>"
      ]
     },
     "metadata": {
      "needs_background": "light"
     },
     "output_type": "display_data"
    }
   ],
   "source": [
    "fig = plt.figure(figsize=(12, 12))\n",
    "\n",
    "ax1 = fig.add_subplot(2, 1, 2)\n",
    "sns.histplot(filtro_vendite['totale_vendite'],ax=ax1, kde=True, stat=\"density\", linewidth=0)\n",
    "plt.title('istogramma densita totale vendite')\n",
    "plt.ylabel('Densità')\n",
    "plt.xlabel('totale vendite')\n",
    "fig.tight_layout(pad=3.0)\n",
    "plt.show()"
   ]
  },
  {
   "cell_type": "code",
   "execution_count": 35,
   "metadata": {
    "pycharm": {
     "is_executing": true,
     "name": "#%%\n"
    }
   },
   "outputs": [
    {
     "name": "stdout",
     "output_type": "stream",
     "text": [
      "Top 10% Clienti per totale vendite\n",
      "--------------------------------------------------\n",
      "count    34,712.00\n",
      "mean      3,735.44\n",
      "std       5,625.45\n",
      "min       1,418.31\n",
      "25%       1,741.34\n",
      "50%       2,339.25\n",
      "75%       3,771.48\n",
      "max     265,569.52\n",
      "Name: totale_vendite, dtype: float64\n",
      "--------------------------------------------------\n",
      "Totale Vendite: 229,957,502\n",
      "Totale Vendite dei clienti top 10%: 129,664,534\n",
      "Clienti regolari per totale vendite\n",
      "--------------------------------------------------\n",
      "count   312,406.00\n",
      "mean        321.03\n",
      "std         314.94\n",
      "min           0.88\n",
      "25%          94.21\n",
      "50%         205.08\n",
      "75%         442.68\n",
      "max       1,418.25\n",
      "Name: totale_vendite, dtype: float64\n",
      "--------------------------------------------------\n",
      "Totale Vendite dei clienti regolari: 100,292,968\n"
     ]
    }
   ],
   "source": [
    "#Migliori clienti\n",
    "\n",
    "#filtro clienti con spesa superiore al %10 degli utenti\n",
    "top_10per_totale_vendite = np.percentile(tabella_clienti['totale_vendite'],90)\n",
    "filtro_top_10per_totale_vendite = tabella_clienti['totale_vendite']>=top_10per_totale_vendite\n",
    "tabella_top_10per_totale_vendite = tabella_clienti.loc[filtro_top_10per_totale_vendite]\n",
    "tabella_clienti_regolari = tabella_clienti.loc[~filtro_top_10per_totale_vendite]\n",
    "\n",
    "#calcolo statistiche\n",
    "print('Top 10% Clienti per totale vendite')\n",
    "print('-'*50)\n",
    "print(tabella_top_10per_totale_vendite['totale_vendite'].describe())\n",
    "print('-'*50)\n",
    "totale_vendite_amount = tabella_clienti['totale_vendite'].sum()\n",
    "print('Totale Vendite: {:,.0f}'.format(totale_vendite_amount))\n",
    "totale_vendite_amount_top10perc = tabella_top_10per_totale_vendite['totale_vendite'].sum()\n",
    "print('Totale Vendite dei clienti top 10%: {:,.0f}'.format(totale_vendite_amount_top10perc))\n",
    "\n",
    "#calculating descriptive statistics\n",
    "print('Clienti regolari per totale vendite')\n",
    "print('-'*50)\n",
    "print(tabella_clienti_regolari['totale_vendite'].describe())\n",
    "print('-'*50)\n",
    "totale_vendite_amount_clienti_regolari = tabella_clienti_regolari['totale_vendite'].sum()\n",
    "print('Totale Vendite dei clienti regolari: {:,.0f}'.format(totale_vendite_amount_clienti_regolari))\n"
   ]
  },
  {
   "cell_type": "markdown",
   "metadata": {},
   "source": [
    "## **Analisi prodotti**\n"
   ]
  },
  {
   "cell_type": "markdown",
   "metadata": {},
   "source": [
    "**Analisi delle categorie**"
   ]
  },
  {
   "cell_type": "code",
   "execution_count": 36,
   "metadata": {
    "pycharm": {
     "is_executing": true,
     "name": "#%%\n"
    }
   },
   "outputs": [],
   "source": [
    "def estrazione_codice_categoria(testo, livello=0):\n",
    "    '''\n",
    "    questa funzione divide la stringa ricevuta in input facendo riferimento al carattere '.'.\n",
    "    '''\n",
    "    output = testo.split('.')[livello]\n",
    "    return output"
   ]
  },
  {
   "cell_type": "markdown",
   "metadata": {},
   "source": [
    "Recap\n"
   ]
  },
  {
   "cell_type": "markdown",
   "metadata": {
    "pycharm": {
     "name": "#%% md\n"
    }
   },
   "source": [
    "\n",
    "Estraiamo le seguenti info da category_code:\n",
    "\n",
    "- category: categoria\n",
    "\n",
    "- subcategory: sottocategoria\n"
   ]
  },
  {
   "cell_type": "code",
   "execution_count": 37,
   "metadata": {
    "pycharm": {
     "is_executing": true,
     "name": "#%%\n"
    }
   },
   "outputs": [
    {
     "name": "stdout",
     "output_type": "stream",
     "text": [
      "Numero Totale di Eventi:42,448,764\n",
      "--------------------------------------------------\n",
      "Numero totale di visite:9,244,421\n",
      "--------------------------------------------------\n",
      "Numero totale di visitatori:3,022,290\n",
      "--------------------------------------------------\n",
      "Numero totale di categorie:13\n",
      "--------------------------------------------------\n",
      "Numero totale di sotto categorie:57\n",
      "--------------------------------------------------\n",
      "Numero totale di brand:3,444\n",
      "--------------------------------------------------\n",
      "Numero totale di prodotti:166,794\n"
     ]
    }
   ],
   "source": [
    "df['category'] = df['category_code'].apply(estrazione_codice_categoria, livello=0)\n",
    "df['subcategory'] = df['category_code'].apply(estrazione_codice_categoria, livello=1)\n",
    "\n",
    "numero_totale_di_eventi = df.shape[0]\n",
    "print('Numero Totale di Eventi:{:,.0f}'.format(numero_totale_di_eventi))\n",
    "print('-'*50)\n",
    "numero_totale_di_visite = df['user_session'].nunique()\n",
    "print('Numero totale di visite:{:,.0f}'.format(numero_totale_di_visite))\n",
    "print('-'*50)\n",
    "numero_totale_di_visitatori = df['user_id'].nunique()\n",
    "print('Numero totale di visitatori:{:,.0f}'.format(numero_totale_di_visitatori))\n",
    "print('-'*50)\n",
    "numero_totale_di_categorie = df['category'].nunique()\n",
    "print('Numero totale di categorie:{:,.0f}'.format(numero_totale_di_categorie))\n",
    "print('-'*50)\n",
    "numero_totale_di_sotto_categorie = df['subcategory'].nunique()\n",
    "print('Numero totale di sotto categorie:{:,.0f}'.format(numero_totale_di_sotto_categorie))\n",
    "print('-'*50)\n",
    "numero_totale_di_brand = df['brand'].nunique()\n",
    "print('Numero totale di brand:{:,.0f}'.format(numero_totale_di_brand))\n",
    "print('-'*50)\n",
    "numero_totale_di_prodotti = df['product_id'].nunique()\n",
    "print('Numero totale di prodotti:{:,.0f}'.format(numero_totale_di_prodotti))"
   ]
  },
  {
   "cell_type": "markdown",
   "metadata": {},
   "source": [
    "per quantificare le performance delle singole categorie ci creiamo una tabella che contenga le metriche di nostro interesse per ciascuna categoria:\n",
    "\n",
    "\n",
    "- numero di eventi\n",
    "- numero di utenti\n",
    "- numero di sessioni\n",
    "- numero di acquisti\n",
    "- totale vendite\n",
    "- media vendite\n",
    "- numero di sessioni con acquisti\n",
    "- numero di clienti\n",
    "- percentuale di conversioni"
   ]
  },
  {
   "cell_type": "code",
   "execution_count": 38,
   "metadata": {
    "pycharm": {
     "is_executing": true,
     "name": "#%%\n"
    }
   },
   "outputs": [],
   "source": [
    "tabella_categorie = df.groupby(by=['category']).agg(numero_di_eventi=('category', 'count'),\n",
    "                                                         numero_di_utenti=('user_id', lambda x: x.nunique()),\n",
    "                                                         numero_di_sessioni=(\n",
    "                                                         'user_session', pd.Series.nunique)).reset_index()\n",
    "filtro_vendite = df['event_type'] == 'purchase'\n",
    "category_sales_summary_table = df.loc[filtro_vendite].groupby(by=['category']).agg(\n",
    "    numero_di_acquisti=('category', 'count'),\n",
    "    totale_vendite=('price', 'sum'),\n",
    "    media_vendite=('price', 'mean'),\n",
    "    numero_di_sessioni_con_acquisti=('user_session', pd.Series.nunique),\n",
    "    numero_di_clienti=('user_id', lambda x: x.nunique())).reset_index()\n",
    "tabella_categorie = pd.merge(left=tabella_categorie,\n",
    "                             right=category_sales_summary_table,\n",
    "                             left_on='category',\n",
    "                             right_on='category',\n",
    "                             how='left')\n",
    "tabella_categorie['percentuale_di_conversioni'] = tabella_categorie['numero_di_acquisti'] / tabella_categorie[\n",
    "    'numero_di_sessioni']"
   ]
  },
  {
   "cell_type": "code",
   "execution_count": 39,
   "metadata": {
    "pycharm": {
     "is_executing": true,
     "name": "#%%\n"
    }
   },
   "outputs": [
    {
     "data": {
      "text/html": [
       "<div>\n",
       "<style scoped>\n",
       "    .dataframe tbody tr th:only-of-type {\n",
       "        vertical-align: middle;\n",
       "    }\n",
       "\n",
       "    .dataframe tbody tr th {\n",
       "        vertical-align: top;\n",
       "    }\n",
       "\n",
       "    .dataframe thead th {\n",
       "        text-align: right;\n",
       "    }\n",
       "</style>\n",
       "<table border=\"1\" class=\"dataframe\">\n",
       "  <thead>\n",
       "    <tr style=\"text-align: right;\">\n",
       "      <th></th>\n",
       "      <th>category</th>\n",
       "      <th>numero_di_eventi</th>\n",
       "      <th>numero_di_utenti</th>\n",
       "      <th>numero_di_sessioni</th>\n",
       "      <th>numero_di_acquisti</th>\n",
       "      <th>totale_vendite</th>\n",
       "      <th>media_vendite</th>\n",
       "      <th>numero_di_sessioni_con_acquisti</th>\n",
       "      <th>numero_di_clienti</th>\n",
       "      <th>percentuale_di_conversioni</th>\n",
       "    </tr>\n",
       "  </thead>\n",
       "  <tbody>\n",
       "    <tr>\n",
       "      <th>0</th>\n",
       "      <td>accessories</td>\n",
       "      <td>238238</td>\n",
       "      <td>50753</td>\n",
       "      <td>68100</td>\n",
       "      <td>1587</td>\n",
       "      <td>68,783.88</td>\n",
       "      <td>43.34</td>\n",
       "      <td>1481</td>\n",
       "      <td>1134</td>\n",
       "      <td>0.02</td>\n",
       "    </tr>\n",
       "    <tr>\n",
       "      <th>1</th>\n",
       "      <td>apparel</td>\n",
       "      <td>1542924</td>\n",
       "      <td>259014</td>\n",
       "      <td>381510</td>\n",
       "      <td>8002</td>\n",
       "      <td>624,937.75</td>\n",
       "      <td>78.10</td>\n",
       "      <td>7233</td>\n",
       "      <td>5186</td>\n",
       "      <td>0.02</td>\n",
       "    </tr>\n",
       "    <tr>\n",
       "      <th>2</th>\n",
       "      <td>appliances</td>\n",
       "      <td>4967294</td>\n",
       "      <td>544317</td>\n",
       "      <td>1055909</td>\n",
       "      <td>74996</td>\n",
       "      <td>13,583,121.92</td>\n",
       "      <td>181.12</td>\n",
       "      <td>67302</td>\n",
       "      <td>49280</td>\n",
       "      <td>0.07</td>\n",
       "    </tr>\n",
       "  </tbody>\n",
       "</table>\n",
       "</div>"
      ],
      "text/plain": [
       "      category  numero_di_eventi  numero_di_utenti  numero_di_sessioni  \\\n",
       "0  accessories            238238             50753               68100   \n",
       "1      apparel           1542924            259014              381510   \n",
       "2   appliances           4967294            544317             1055909   \n",
       "\n",
       "   numero_di_acquisti  totale_vendite  media_vendite  \\\n",
       "0                1587       68,783.88          43.34   \n",
       "1                8002      624,937.75          78.10   \n",
       "2               74996   13,583,121.92         181.12   \n",
       "\n",
       "   numero_di_sessioni_con_acquisti  numero_di_clienti  \\\n",
       "0                             1481               1134   \n",
       "1                             7233               5186   \n",
       "2                            67302              49280   \n",
       "\n",
       "   percentuale_di_conversioni  \n",
       "0                        0.02  \n",
       "1                        0.02  \n",
       "2                        0.07  "
      ]
     },
     "execution_count": 39,
     "metadata": {},
     "output_type": "execute_result"
    }
   ],
   "source": [
    "tabella_categorie.head(3)"
   ]
  },
  {
   "cell_type": "markdown",
   "metadata": {},
   "source": [
    "Quante eventi ha generato ogni categoria?"
   ]
  },
  {
   "cell_type": "code",
   "execution_count": 40,
   "metadata": {
    "pycharm": {
     "is_executing": true,
     "name": "#%%\n"
    }
   },
   "outputs": [
    {
     "data": {
      "image/png": "[encoded data removed]",
      "text/plain": [
       "<Figure size 1296x216 with 1 Axes>"
      ]
     },
     "metadata": {
      "needs_background": "light"
     },
     "output_type": "display_data"
    }
   ],
   "source": [
    "plt.figure(figsize=(18,3))\n",
    "plot = sns.barplot(x='category', y='numero_di_eventi', data=tabella_categorie)\n",
    "for p in plot.patches:\n",
    "    plot.annotate(format(p.get_height(), ',.0f'),\n",
    "                  (p.get_x() + p.get_width() / 2., p.get_height()),\n",
    "                  ha = 'center',\n",
    "                  va = 'center',\n",
    "                  xytext = (0, 10),\n",
    "                  textcoords = 'offset points')\n",
    "\n",
    "plt.title('Numero totale di di eventi per categoria')\n",
    "plt.xlabel('Categoria')\n",
    "plt.ylabel('Numero di Eventi')\n",
    "plt.ylim(0, tabella_categorie['numero_di_eventi'].max()*1.2)\n",
    "plt.show()"
   ]
  },
  {
   "cell_type": "markdown",
   "metadata": {},
   "source": [
    "Quanti visitatori ha avuto ogni categoria?"
   ]
  },
  {
   "cell_type": "code",
   "execution_count": 41,
   "metadata": {
    "pycharm": {
     "is_executing": true,
     "name": "#%%\n"
    }
   },
   "outputs": [
    {
     "data": {
      "image/png": "[encoded data removed]",
      "text/plain": [
       "<Figure size 1296x216 with 1 Axes>"
      ]
     },
     "metadata": {
      "needs_background": "light"
     },
     "output_type": "display_data"
    }
   ],
   "source": [
    "plt.figure(figsize=(18,3))\n",
    "plot = sns.barplot(x='category', y='numero_di_utenti', data=tabella_categorie)\n",
    "for p in plot.patches:\n",
    "    plot.annotate(format(p.get_height(), ',.0f'),\n",
    "                  (p.get_x() + p.get_width() / 2., p.get_height()),\n",
    "                  ha = 'center',\n",
    "                  va = 'center',\n",
    "                  xytext = (0, 10),\n",
    "                  textcoords = 'offset points')\n",
    "\n",
    "plt.title('Numero totale di Clienti per categoria')\n",
    "plt.xlabel('Categoria')\n",
    "plt.ylabel('Numero di Clienti')\n",
    "plt.ylim(0, tabella_categorie['numero_di_utenti'].max()*1.2)\n",
    "plt.show()"
   ]
  },
  {
   "cell_type": "markdown",
   "metadata": {},
   "source": [
    "Quali sono le percentuali di conversioni per ogni categoria?"
   ]
  },
  {
   "cell_type": "code",
   "execution_count": 42,
   "metadata": {
    "pycharm": {
     "is_executing": true,
     "name": "#%%\n"
    }
   },
   "outputs": [
    {
     "data": {
      "image/png": "[encoded data removed]",
      "text/plain": [
       "<Figure size 1296x216 with 1 Axes>"
      ]
     },
     "metadata": {
      "needs_background": "light"
     },
     "output_type": "display_data"
    }
   ],
   "source": [
    "plt.figure(figsize=(18,3))\n",
    "plot = sns.barplot(x='category', y='percentuale_di_conversioni', data=tabella_categorie)\n",
    "for p in plot.patches:\n",
    "    plot.annotate(\"{:.1%}\".format(p.get_height()),\n",
    "                  (p.get_x() + p.get_width() / 2., p.get_height()),\n",
    "                  ha = 'center',\n",
    "                  va = 'center',\n",
    "                  xytext = (0, 10),\n",
    "                  textcoords = 'offset points')\n",
    "\n",
    "plt.title('Percentuali di conversioni per categoria')\n",
    "plt.xlabel('Categoria')\n",
    "plt.ylabel('Percentuali di conversioni')\n",
    "plt.ylim(0, tabella_categorie['percentuale_di_conversioni'].max() * 1.2)\n",
    "plt.show()"
   ]
  },
  {
   "cell_type": "markdown",
   "metadata": {},
   "source": [
    "Quale categoria di prodotti ha più interazioni?"
   ]
  },
  {
   "cell_type": "code",
   "execution_count": 43,
   "metadata": {
    "pycharm": {
     "is_executing": true,
     "name": "#%%\n"
    }
   },
   "outputs": [
    {
     "data": {
      "image/png": "[encoded data removed]",
      "text/plain": [
       "<Figure size 1008x432 with 1 Axes>"
      ]
     },
     "metadata": {
      "needs_background": "light"
     },
     "output_type": "display_data"
    }
   ],
   "source": [
    "fig, axe = plt.subplots(nrows=1, ncols=1, figsize=(14, 6))\n",
    "axe.bar(tabella_categorie.category, tabella_categorie.numero_di_eventi)\n",
    "plt.xticks(rotation=90)\n",
    "plt.show()"
   ]
  },
  {
   "cell_type": "code",
   "execution_count": 44,
   "metadata": {
    "pycharm": {
     "is_executing": true,
     "name": "#%%\n"
    }
   },
   "outputs": [
    {
     "data": {
      "image/png": "[encoded data removed]",
      "text/plain": [
       "<Figure size 1008x432 with 1 Axes>"
      ]
     },
     "metadata": {},
     "output_type": "display_data"
    }
   ],
   "source": [
    "fig, axe = plt.subplots(nrows=1, ncols=1, figsize=(14, 6))\n",
    "\n",
    "axe.pie(tabella_categorie.numero_di_eventi, shadow = True, autopct = '%.2f%%')\n",
    "axe.legend(tabella_categorie.category)\n",
    "\n",
    "plt.title('Quale categoria di prodotti ha più interazioni?')\n",
    "plt.axis('off')\n",
    "plt.show()"
   ]
  },
  {
   "cell_type": "markdown",
   "metadata": {},
   "source": [
    "passiamo alle sotto categorie"
   ]
  },
  {
   "cell_type": "code",
   "execution_count": 45,
   "metadata": {
    "pycharm": {
     "is_executing": true,
     "name": "#%%\n"
    }
   },
   "outputs": [],
   "source": [
    "tabella_sottocategorie = df.groupby(by=['category', 'subcategory']).agg(\n",
    "    numero_di_eventi=('category', 'count'),\n",
    "    numero_di_utenti=('user_id', lambda x: x.nunique()),\n",
    "    numero_di_sessioni=('user_session', pd.Series.nunique)).reset_index()\n",
    "\n",
    "filtro_vendite = df['event_type'] == 'purchase'\n",
    "tabella_sottocategorie_vendite = df.loc[filtro_vendite].groupby(by=['category', 'subcategory']).agg(\n",
    "    numero_di_acquisti=('category', 'count'),\n",
    "    totale_vendite=('price', 'sum'),\n",
    "    media_vendite=('price', 'mean'),\n",
    "    numero_di_sessioni_con_acquisti=('user_session', pd.Series.nunique),\n",
    "    numero_di_clienti=('user_id', lambda x: x.nunique())).reset_index()\n",
    "tabella_sottocategorie = pd.merge(left=tabella_sottocategorie,\n",
    "                                              right=tabella_sottocategorie_vendite,\n",
    "                                              left_on=['category', 'subcategory'],\n",
    "                                              right_on=['category', 'subcategory'],\n",
    "                                              how='left')\n",
    "\n",
    "tabella_sottocategorie['percentuale_di_conversioni'] = tabella_sottocategorie['numero_di_acquisti']/\\\n",
    "                                                        tabella_sottocategorie['numero_di_sessioni']\n",
    "\n",
    "tabella_sottocategorie['category_subcategory'] = tabella_sottocategorie['category'] + '-' +\\\n",
    "                                                             tabella_sottocategorie['subcategory']\n",
    "\n",
    "tabella_sottocategorie_ordinata = tabella_sottocategorie.sort_values(by='numero_di_eventi', ascending=False)"
   ]
  },
  {
   "cell_type": "markdown",
   "metadata": {},
   "source": [
    "Quanti eventi ha generato ogni sotto categoria?"
   ]
  },
  {
   "cell_type": "code",
   "execution_count": 46,
   "metadata": {
    "pycharm": {
     "is_executing": true,
     "name": "#%%\n"
    }
   },
   "outputs": [
    {
     "data": {
      "image/png": "[encoded data removed]",
      "text/plain": [
       "<Figure size 864x864 with 1 Axes>"
      ]
     },
     "metadata": {
      "needs_background": "light"
     },
     "output_type": "display_data"
    }
   ],
   "source": [
    "fig = plt.figure(figsize=(12,12))\n",
    "ax1 = fig.add_subplot(2,1,1)\n",
    "plot = sns.barplot(x='numero_di_eventi', y='category_subcategory', data=tabella_sottocategorie_ordinata.head(10), ax=ax1)\n",
    "\n",
    "for p in plot.patches:\n",
    "    plot.annotate(format(p.get_width(), ',.0f'),\n",
    "                  (p.get_x()+p.get_width(), p.get_y() + p.get_height() ),\n",
    "                  ha = 'center',\n",
    "                  va = 'center',\n",
    "                  xytext = (0, 10),\n",
    "                  textcoords = 'offset points')\n",
    "    \n",
    "plt.title('Numero totale di di eventi per sotto categoria')\n",
    "plt.ylabel('Sotto Categoria')\n",
    "plt.xlabel('Numero di Eventi')\n",
    "plt.show()"
   ]
  },
  {
   "cell_type": "markdown",
   "metadata": {},
   "source": [
    "Quante visitatori ha avuto ogni sotto categoria?"
   ]
  },
  {
   "cell_type": "code",
   "execution_count": 47,
   "metadata": {
    "pycharm": {
     "is_executing": true,
     "name": "#%%\n"
    }
   },
   "outputs": [
    {
     "data": {
      "image/png": "[encoded data removed]",
      "text/plain": [
       "<Figure size 864x864 with 1 Axes>"
      ]
     },
     "metadata": {
      "needs_background": "light"
     },
     "output_type": "display_data"
    }
   ],
   "source": [
    "fig = plt.figure(figsize=(12,12))\n",
    "ax1 = fig.add_subplot(2,1,1)\n",
    "plot = sns.barplot(x='numero_di_utenti', y='category_subcategory', data=tabella_sottocategorie_ordinata.head(10), ax=ax1)\n",
    "for p in plot.patches:\n",
    "    plot.annotate(format(p.get_width(), ',.0f'),\n",
    "                  (p.get_x()+p.get_width(), p.get_y() + p.get_height()),\n",
    "                  ha = 'center',\n",
    "                  va = 'center',\n",
    "                  xytext = (0, 10),\n",
    "                  textcoords = 'offset points')\n",
    "\n",
    "plt.title('Numero totale di Clienti per sotto categoria')\n",
    "plt.ylabel('Sotto Categoria')\n",
    "plt.xlabel('Numero di Clienti')\n",
    "plt.tight_layout()\n",
    "plt.show()"
   ]
  },
  {
   "cell_type": "markdown",
   "metadata": {},
   "source": [
    "Quali sono i maggiori conversion rate per ogni sotto categoria?"
   ]
  },
  {
   "cell_type": "code",
   "execution_count": 48,
   "metadata": {
    "pycharm": {
     "is_executing": true,
     "name": "#%%\n"
    }
   },
   "outputs": [
    {
     "data": {
      "image/png": "[encoded data removed]",
      "text/plain": [
       "<Figure size 1512x216 with 1 Axes>"
      ]
     },
     "metadata": {
      "needs_background": "light"
     },
     "output_type": "display_data"
    }
   ],
   "source": [
    "plt.figure(figsize=(21,3))\n",
    "plot = sns.barplot(x='category_subcategory',y='percentuale_di_conversioni',data=tabella_sottocategorie_ordinata.sort_values(by='percentuale_di_conversioni',ascending=False).head(10))\n",
    "\n",
    "for p in plot.patches:\n",
    "    plot.annotate(\"{:.1%}\".format(p.get_height()),\n",
    "                  (p.get_x() + p.get_width() / 2., p.get_height()),\n",
    "                  ha = 'center',\n",
    "                  va = 'center',\n",
    "                  xytext = (0, 10),\n",
    "                  textcoords = 'offset points')\n",
    "\n",
    "plt.title('Percentuali di conversioni per categoria')\n",
    "plt.xlabel('Sotto Categoria')\n",
    "plt.ylabel('Percentuali di conversioni')\n",
    "plt.ylim(0,tabella_categorie['percentuale_di_conversioni'].max()*1.3)\n",
    "plt.show()"
   ]
  },
  {
   "cell_type": "markdown",
   "metadata": {},
   "source": [
    "Quali sono i peggiori conversion rate per ogni sotto categoria?"
   ]
  },
  {
   "cell_type": "code",
   "execution_count": 49,
   "metadata": {
    "pycharm": {
     "is_executing": true,
     "name": "#%%\n"
    }
   },
   "outputs": [
    {
     "data": {
      "image/png": "[encoded data removed]",
      "text/plain": [
       "<Figure size 1512x216 with 1 Axes>"
      ]
     },
     "metadata": {
      "needs_background": "light"
     },
     "output_type": "display_data"
    }
   ],
   "source": [
    "plt.figure(figsize=(21,3))\n",
    "plot = sns.barplot(x='category_subcategory',y='percentuale_di_conversioni',data=tabella_sottocategorie_ordinata.sort_values(by='percentuale_di_conversioni',ascending=True).head(10))\n",
    "\n",
    "for p in plot.patches:\n",
    "    plot.annotate(\"{:.1%}\".format(p.get_height()),\n",
    "                  (p.get_x() + p.get_width() / 2., p.get_height()),\n",
    "                  ha = 'center',\n",
    "                  va = 'center',\n",
    "                  xytext = (0, 10),\n",
    "                  textcoords = 'offset points')\n",
    "\n",
    "plt.title('Peggiori percentuali di conversioni')\n",
    "plt.ylabel('Conversation rates')\n",
    "plt.xlabel('Sotto Categoria')\n",
    "\n",
    "plt.ylim(0,plot.get_ybound()[1]*1.3)\n",
    "plt.show()\n"
   ]
  },
  {
   "cell_type": "code",
   "execution_count": 50,
   "metadata": {
    "pycharm": {
     "is_executing": true,
     "name": "#%%\n"
    }
   },
   "outputs": [],
   "source": [
    "#cancello per liberare memoria\n",
    "del tabella_giornaliera\n",
    "del filtro_vendite\n",
    "del tabella_categorie\n",
    "del tabella_clienti\n",
    "del tabella_sottocategorie_vendite\n",
    "del tabella_sottocategorie\n",
    "del tabella_sottocategorie_ordinata\n",
    "del tabella_top_10per_totale_vendite\n",
    "del tabella_clienti_regolari"
   ]
  },
  {
   "cell_type": "markdown",
   "metadata": {},
   "source": [
    "Quale Brand ha più visite?"
   ]
  },
  {
   "cell_type": "code",
   "execution_count": 51,
   "metadata": {
    "pycharm": {
     "is_executing": true,
     "name": "#%%\n"
    }
   },
   "outputs": [
    {
     "data": {
      "image/png": "[encoded data removed]",
      "text/plain": [
       "<Figure size 1296x504 with 1 Axes>"
      ]
     },
     "metadata": {
      "needs_background": "light"
     },
     "output_type": "display_data"
    }
   ],
   "source": [
    "df['brand'].value_counts().head(50).plot.bar(figsize = (18, 7))\n",
    "plt.title('Top Brand', fontsize = 20)\n",
    "plt.xlabel('Names of Brand')\n",
    "plt.ylabel('Count')\n",
    "plt.show()"
   ]
  },
  {
   "cell_type": "markdown",
   "metadata": {},
   "source": [
    "Quale articolo viene acquistato di più dai clienti?"
   ]
  },
  {
   "cell_type": "code",
   "execution_count": 52,
   "metadata": {
    "pycharm": {
     "is_executing": true,
     "name": "#%%\n"
    }
   },
   "outputs": [
    {
     "name": "stdout",
     "output_type": "stream",
     "text": [
      "            count\n",
      "product_id       \n",
      "1004856     28944\n",
      "1004767     21806\n",
      "1004833     12697\n",
      "1005115     12543\n",
      "4804056     12381\n"
     ]
    }
   ],
   "source": [
    "# event_type = \"purchase\"\n",
    "purchase = df.loc[df['event_type'] == 'purchase']\n",
    "purchase = purchase.dropna(axis='rows')\n",
    "purchase_product=purchase.groupby('product_id')['product_id'].agg(['count']).sort_values('count', ascending=False)\n",
    "\n",
    "print(purchase_product.head())"
   ]
  },
  {
   "cell_type": "markdown",
   "metadata": {},
   "source": [
    "Quale brand i clienti comprano?"
   ]
  },
  {
   "cell_type": "code",
   "execution_count": 53,
   "metadata": {
    "pycharm": {
     "is_executing": true,
     "name": "#%%\n"
    }
   },
   "outputs": [
    {
     "data": {
      "text/html": [
       "<div>\n",
       "<style scoped>\n",
       "    .dataframe tbody tr th:only-of-type {\n",
       "        vertical-align: middle;\n",
       "    }\n",
       "\n",
       "    .dataframe tbody tr th {\n",
       "        vertical-align: top;\n",
       "    }\n",
       "\n",
       "    .dataframe thead th {\n",
       "        text-align: right;\n",
       "    }\n",
       "</style>\n",
       "<table border=\"1\" class=\"dataframe\">\n",
       "  <thead>\n",
       "    <tr style=\"text-align: right;\">\n",
       "      <th></th>\n",
       "      <th>count</th>\n",
       "    </tr>\n",
       "    <tr>\n",
       "      <th>brand</th>\n",
       "      <th></th>\n",
       "    </tr>\n",
       "  </thead>\n",
       "  <tbody>\n",
       "    <tr>\n",
       "      <th>samsung</th>\n",
       "      <td>171706</td>\n",
       "    </tr>\n",
       "    <tr>\n",
       "      <th>apple</th>\n",
       "      <td>142577</td>\n",
       "    </tr>\n",
       "    <tr>\n",
       "      <th>xiaomi</th>\n",
       "      <td>46595</td>\n",
       "    </tr>\n",
       "    <tr>\n",
       "      <th>huawei</th>\n",
       "      <td>23294</td>\n",
       "    </tr>\n",
       "    <tr>\n",
       "      <th>oppo</th>\n",
       "      <td>10891</td>\n",
       "    </tr>\n",
       "    <tr>\n",
       "      <th>lg</th>\n",
       "      <td>7831</td>\n",
       "    </tr>\n",
       "    <tr>\n",
       "      <th>acer</th>\n",
       "      <td>6882</td>\n",
       "    </tr>\n",
       "    <tr>\n",
       "      <th>elenberg</th>\n",
       "      <td>5435</td>\n",
       "    </tr>\n",
       "    <tr>\n",
       "      <th>indesit</th>\n",
       "      <td>5023</td>\n",
       "    </tr>\n",
       "    <tr>\n",
       "      <th>artel</th>\n",
       "      <td>4717</td>\n",
       "    </tr>\n",
       "    <tr>\n",
       "      <th>lenovo</th>\n",
       "      <td>4578</td>\n",
       "    </tr>\n",
       "    <tr>\n",
       "      <th>bosch</th>\n",
       "      <td>4055</td>\n",
       "    </tr>\n",
       "    <tr>\n",
       "      <th>beko</th>\n",
       "      <td>3839</td>\n",
       "    </tr>\n",
       "    <tr>\n",
       "      <th>hp</th>\n",
       "      <td>3411</td>\n",
       "    </tr>\n",
       "    <tr>\n",
       "      <th>haier</th>\n",
       "      <td>3044</td>\n",
       "    </tr>\n",
       "    <tr>\n",
       "      <th>casio</th>\n",
       "      <td>2660</td>\n",
       "    </tr>\n",
       "    <tr>\n",
       "      <th>tefal</th>\n",
       "      <td>2598</td>\n",
       "    </tr>\n",
       "    <tr>\n",
       "      <th>midea</th>\n",
       "      <td>2326</td>\n",
       "    </tr>\n",
       "    <tr>\n",
       "      <th>vitek</th>\n",
       "      <td>2292</td>\n",
       "    </tr>\n",
       "    <tr>\n",
       "      <th>sony</th>\n",
       "      <td>2233</td>\n",
       "    </tr>\n",
       "  </tbody>\n",
       "</table>\n",
       "</div>"
      ],
      "text/plain": [
       "           count\n",
       "brand           \n",
       "samsung   171706\n",
       "apple     142577\n",
       "xiaomi     46595\n",
       "huawei     23294\n",
       "oppo       10891\n",
       "lg          7831\n",
       "acer        6882\n",
       "elenberg    5435\n",
       "indesit     5023\n",
       "artel       4717\n",
       "lenovo      4578\n",
       "bosch       4055\n",
       "beko        3839\n",
       "hp          3411\n",
       "haier       3044\n",
       "casio       2660\n",
       "tefal       2598\n",
       "midea       2326\n",
       "vitek       2292\n",
       "sony        2233"
      ]
     },
     "execution_count": 53,
     "metadata": {},
     "output_type": "execute_result"
    }
   ],
   "source": [
    "top_sellers = purchase.groupby('brand')['brand'].agg(['count']).sort_values('count', ascending=False)\n",
    "top_sellers.head(20)"
   ]
  },
  {
   "cell_type": "code",
   "execution_count": 54,
   "metadata": {
    "pycharm": {
     "is_executing": true,
     "name": "#%%\n"
    }
   },
   "outputs": [],
   "source": [
    "#cancello per liberare memoria\n",
    "del purchase\n",
    "del purchase_product\n",
    "del top_sellers"
   ]
  },
  {
   "cell_type": "markdown",
   "metadata": {},
   "source": [
    "## Analisi del tipo di eventi\n",
    "\n",
    "si ricorda\n",
    "Colonna **event_type**: Representail tipo di evento."
   ]
  },
  {
   "cell_type": "code",
   "execution_count": 55,
   "metadata": {
    "pycharm": {
     "is_executing": true,
     "name": "#%%\n"
    }
   },
   "outputs": [
    {
     "data": {
      "text/plain": [
       "event_type\n",
       "view        40779399\n",
       "cart          926516\n",
       "purchase      742849\n",
       "Name: event_type, dtype: int64"
      ]
     },
     "execution_count": 55,
     "metadata": {},
     "output_type": "execute_result"
    }
   ],
   "source": [
    "df.groupby(\"event_type\")[\"event_type\"].count().sort_values(ascending=False)"
   ]
  },
  {
   "cell_type": "code",
   "execution_count": 56,
   "metadata": {
    "pycharm": {
     "is_executing": true,
     "name": "#%%\n"
    }
   },
   "outputs": [
    {
     "data": {
      "image/png": "[encoded data removed]",
      "text/plain": [
       "<Figure size 1008x432 with 2 Axes>"
      ]
     },
     "metadata": {
      "needs_background": "light"
     },
     "output_type": "display_data"
    }
   ],
   "source": [
    "colors = ['yellowgreen', 'lightskyblue','lightcoral']\n",
    "explode = [0, 0.1,0.1]\n",
    "\n",
    "fig, axes = plt.subplots(nrows=1, ncols=2, figsize=(14, 6))\n",
    "\n",
    "axes[0].bar(df[\"event_type\"].value_counts().index,df[\"event_type\"].value_counts().values)\n",
    "axes[1].pie(df[\"event_type\"].value_counts().values, colors = colors, explode = explode, shadow = True, autopct = '%.2f%%')\n",
    "axes[1].legend(df[\"event_type\"].value_counts().index)\n",
    "plt.show()"
   ]
  },
  {
   "cell_type": "markdown",
   "metadata": {},
   "source": [
    "## **Pulitura dei dati**\n",
    "\n"
   ]
  },
  {
   "cell_type": "markdown",
   "metadata": {},
   "source": [
    "**Si sceglie di escludere i prodotti solo visualizzati**"
   ]
  },
  {
   "cell_type": "code",
   "execution_count": 57,
   "metadata": {
    "pycharm": {
     "is_executing": true,
     "name": "#%%\n"
    }
   },
   "outputs": [],
   "source": [
    "# recupero gli indici relativi alle sole visualizzazioni\n",
    "index_View = df[ df['event_type'] == \"view\" ].index\n",
    "# cancello i relativi dati dal dataset\n",
    "df = df.drop(index_View)"
   ]
  },
  {
   "cell_type": "code",
   "execution_count": 58,
   "metadata": {
    "pycharm": {
     "is_executing": true,
     "name": "#%%\n"
    }
   },
   "outputs": [
    {
     "data": {
      "text/html": [
       "<div>\n",
       "<style scoped>\n",
       "    .dataframe tbody tr th:only-of-type {\n",
       "        vertical-align: middle;\n",
       "    }\n",
       "\n",
       "    .dataframe tbody tr th {\n",
       "        vertical-align: top;\n",
       "    }\n",
       "\n",
       "    .dataframe thead th {\n",
       "        text-align: right;\n",
       "    }\n",
       "</style>\n",
       "<table border=\"1\" class=\"dataframe\">\n",
       "  <thead>\n",
       "    <tr style=\"text-align: right;\">\n",
       "      <th></th>\n",
       "      <th>event_time</th>\n",
       "      <th>event_type</th>\n",
       "      <th>product_id</th>\n",
       "      <th>category_id</th>\n",
       "      <th>category_code</th>\n",
       "      <th>brand</th>\n",
       "      <th>price</th>\n",
       "      <th>user_id</th>\n",
       "      <th>user_session</th>\n",
       "      <th>category</th>\n",
       "      <th>subcategory</th>\n",
       "    </tr>\n",
       "  </thead>\n",
       "  <tbody>\n",
       "    <tr>\n",
       "      <th>162</th>\n",
       "      <td>2019-10-01 00:02:14</td>\n",
       "      <td>purchase</td>\n",
       "      <td>1004856</td>\n",
       "      <td>2053013555631882655</td>\n",
       "      <td>electronics.smartphone</td>\n",
       "      <td>samsung</td>\n",
       "      <td>130.76</td>\n",
       "      <td>543272936</td>\n",
       "      <td>8187d148-3c41-46d4-b0c0-9c08cd9dc564</td>\n",
       "      <td>electronics</td>\n",
       "      <td>smartphone</td>\n",
       "    </tr>\n",
       "    <tr>\n",
       "      <th>308</th>\n",
       "      <td>2019-10-01 00:04:37</td>\n",
       "      <td>purchase</td>\n",
       "      <td>1002532</td>\n",
       "      <td>2053013555631882655</td>\n",
       "      <td>electronics.smartphone</td>\n",
       "      <td>apple</td>\n",
       "      <td>642.69</td>\n",
       "      <td>551377651</td>\n",
       "      <td>3c80f0d6-e9ec-4181-8c5c-837a30be2d68</td>\n",
       "      <td>electronics</td>\n",
       "      <td>smartphone</td>\n",
       "    </tr>\n",
       "    <tr>\n",
       "      <th>331</th>\n",
       "      <td>2019-10-01 00:05:14</td>\n",
       "      <td>cart</td>\n",
       "      <td>5100816</td>\n",
       "      <td>2053013553375346967</td>\n",
       "      <td>NaN</td>\n",
       "      <td>xiaomi</td>\n",
       "      <td>29.51</td>\n",
       "      <td>550121407</td>\n",
       "      <td>6f623695-9581-4633-813f-825b8760c7ae</td>\n",
       "      <td>NaN</td>\n",
       "      <td>NaN</td>\n",
       "    </tr>\n",
       "  </tbody>\n",
       "</table>\n",
       "</div>"
      ],
      "text/plain": [
       "             event_time event_type product_id          category_id  \\\n",
       "162 2019-10-01 00:02:14   purchase    1004856  2053013555631882655   \n",
       "308 2019-10-01 00:04:37   purchase    1002532  2053013555631882655   \n",
       "331 2019-10-01 00:05:14       cart    5100816  2053013553375346967   \n",
       "\n",
       "              category_code    brand  price    user_id  \\\n",
       "162  electronics.smartphone  samsung 130.76  543272936   \n",
       "308  electronics.smartphone    apple 642.69  551377651   \n",
       "331                     NaN   xiaomi  29.51  550121407   \n",
       "\n",
       "                             user_session     category subcategory  \n",
       "162  8187d148-3c41-46d4-b0c0-9c08cd9dc564  electronics  smartphone  \n",
       "308  3c80f0d6-e9ec-4181-8c5c-837a30be2d68  electronics  smartphone  \n",
       "331  6f623695-9581-4633-813f-825b8760c7ae          NaN         NaN  "
      ]
     },
     "execution_count": 58,
     "metadata": {},
     "output_type": "execute_result"
    }
   ],
   "source": [
    "df.head(3)"
   ]
  },
  {
   "cell_type": "code",
   "execution_count": 59,
   "metadata": {
    "pycharm": {
     "is_executing": true,
     "name": "#%%\n"
    }
   },
   "outputs": [
    {
     "data": {
      "text/plain": [
       "event_type\n",
       "cart        926516\n",
       "purchase    742849\n",
       "view             0\n",
       "Name: event_type, dtype: int64"
      ]
     },
     "execution_count": 59,
     "metadata": {},
     "output_type": "execute_result"
    }
   ],
   "source": [
    "df.groupby(\"event_type\")[\"event_type\"].count().sort_values(ascending=False)"
   ]
  },
  {
   "cell_type": "markdown",
   "metadata": {},
   "source": [
    "rimuoviamo i parametri che ci sono poco utili in questa fase"
   ]
  },
  {
   "cell_type": "markdown",
   "metadata": {},
   "source": [
    "rimuoviamo la colonna 'user_id'\n"
   ]
  },
  {
   "cell_type": "code",
   "execution_count": 60,
   "metadata": {
    "pycharm": {
     "is_executing": true,
     "name": "#%%\n"
    }
   },
   "outputs": [],
   "source": [
    "df = df.drop(columns=['user_id'])"
   ]
  },
  {
   "cell_type": "markdown",
   "metadata": {},
   "source": [
    "rimuoviamo la colonna 'user_session'"
   ]
  },
  {
   "cell_type": "code",
   "execution_count": 61,
   "metadata": {
    "pycharm": {
     "is_executing": true,
     "name": "#%%\n"
    }
   },
   "outputs": [],
   "source": [
    "df = df.drop(columns=['user_session'])"
   ]
  },
  {
   "cell_type": "markdown",
   "metadata": {},
   "source": [
    "Ora rimuoviamo la colonna \"category_code\", poiché contiene molti dati mancanti. Inoltre, è solo una tassonomia della categoria del prodotto ed è già presente una colonna \"category_id\" che rappresenta l'ID della categoria del prodotto. Cioè, le 2 colonne forniscono le stesse informazioni.\n",
    "\n",
    "\n",
    "Ma prima di eliminarlo definitivamente, inseriamo i valori mancanti ed estraiamo le informazioni:"
   ]
  },
  {
   "cell_type": "code",
   "execution_count": 62,
   "metadata": {
    "pycharm": {
     "is_executing": true,
     "name": "#%%\n"
    }
   },
   "outputs": [
    {
     "data": {
      "text/plain": [
       "event_time       datetime64[ns]\n",
       "event_type             category\n",
       "product_id             category\n",
       "category_id            category\n",
       "category_code          category\n",
       "brand                  category\n",
       "price                   float64\n",
       "category                 object\n",
       "subcategory              object\n",
       "dtype: object"
      ]
     },
     "execution_count": 62,
     "metadata": {},
     "output_type": "execute_result"
    }
   ],
   "source": [
    "df.dtypes"
   ]
  },
  {
   "cell_type": "code",
   "execution_count": 63,
   "metadata": {
    "pycharm": {
     "is_executing": true,
     "name": "#%%\n"
    }
   },
   "outputs": [],
   "source": [
    "#trasformiamo il categorical in stringa per poter aggiungere ilvalore 'NaN.NaN'\n",
    "df['category_code'] = df['category_code'].astype(str)"
   ]
  },
  {
   "cell_type": "code",
   "execution_count": 64,
   "metadata": {
    "pycharm": {
     "is_executing": true,
     "name": "#%%\n"
    }
   },
   "outputs": [],
   "source": [
    "df.update(df['category_code'].fillna('NaN.NaN'))"
   ]
  },
  {
   "cell_type": "code",
   "execution_count": 65,
   "metadata": {
    "pycharm": {
     "is_executing": true,
     "name": "#%%\n"
    }
   },
   "outputs": [],
   "source": [
    "df['category_code'] = df['category_code'].astype('category')"
   ]
  },
  {
   "cell_type": "code",
   "execution_count": 66,
   "metadata": {
    "pycharm": {
     "is_executing": true,
     "name": "#%%\n"
    }
   },
   "outputs": [
    {
     "data": {
      "text/html": [
       "<div>\n",
       "<style scoped>\n",
       "    .dataframe tbody tr th:only-of-type {\n",
       "        vertical-align: middle;\n",
       "    }\n",
       "\n",
       "    .dataframe tbody tr th {\n",
       "        vertical-align: top;\n",
       "    }\n",
       "\n",
       "    .dataframe thead th {\n",
       "        text-align: right;\n",
       "    }\n",
       "</style>\n",
       "<table border=\"1\" class=\"dataframe\">\n",
       "  <thead>\n",
       "    <tr style=\"text-align: right;\">\n",
       "      <th></th>\n",
       "      <th>event_time</th>\n",
       "      <th>event_type</th>\n",
       "      <th>product_id</th>\n",
       "      <th>category_id</th>\n",
       "      <th>category_code</th>\n",
       "      <th>brand</th>\n",
       "      <th>price</th>\n",
       "      <th>category</th>\n",
       "      <th>subcategory</th>\n",
       "    </tr>\n",
       "  </thead>\n",
       "  <tbody>\n",
       "    <tr>\n",
       "      <th>162</th>\n",
       "      <td>2019-10-01 00:02:14</td>\n",
       "      <td>purchase</td>\n",
       "      <td>1004856</td>\n",
       "      <td>2053013555631882655</td>\n",
       "      <td>electronics.smartphone</td>\n",
       "      <td>samsung</td>\n",
       "      <td>130.76</td>\n",
       "      <td>electronics</td>\n",
       "      <td>smartphone</td>\n",
       "    </tr>\n",
       "    <tr>\n",
       "      <th>308</th>\n",
       "      <td>2019-10-01 00:04:37</td>\n",
       "      <td>purchase</td>\n",
       "      <td>1002532</td>\n",
       "      <td>2053013555631882655</td>\n",
       "      <td>electronics.smartphone</td>\n",
       "      <td>apple</td>\n",
       "      <td>642.69</td>\n",
       "      <td>electronics</td>\n",
       "      <td>smartphone</td>\n",
       "    </tr>\n",
       "    <tr>\n",
       "      <th>331</th>\n",
       "      <td>2019-10-01 00:05:14</td>\n",
       "      <td>cart</td>\n",
       "      <td>5100816</td>\n",
       "      <td>2053013553375346967</td>\n",
       "      <td>NaN.NaN</td>\n",
       "      <td>xiaomi</td>\n",
       "      <td>29.51</td>\n",
       "      <td>NaN</td>\n",
       "      <td>NaN</td>\n",
       "    </tr>\n",
       "  </tbody>\n",
       "</table>\n",
       "</div>"
      ],
      "text/plain": [
       "             event_time event_type product_id          category_id  \\\n",
       "162 2019-10-01 00:02:14   purchase    1004856  2053013555631882655   \n",
       "308 2019-10-01 00:04:37   purchase    1002532  2053013555631882655   \n",
       "331 2019-10-01 00:05:14       cart    5100816  2053013553375346967   \n",
       "\n",
       "              category_code    brand  price     category subcategory  \n",
       "162  electronics.smartphone  samsung 130.76  electronics  smartphone  \n",
       "308  electronics.smartphone    apple 642.69  electronics  smartphone  \n",
       "331                 NaN.NaN   xiaomi  29.51          NaN         NaN  "
      ]
     },
     "execution_count": 66,
     "metadata": {},
     "output_type": "execute_result"
    }
   ],
   "source": [
    "df.head(3)"
   ]
  },
  {
   "cell_type": "code",
   "execution_count": 67,
   "metadata": {
    "pycharm": {
     "is_executing": true,
     "name": "#%%\n"
    }
   },
   "outputs": [
    {
     "name": "stdout",
     "output_type": "stream",
     "text": [
      "electronics.smartphone          887783\n",
      "NaN.NaN                         279151\n",
      "electronics.audio.headphone      81646\n",
      "electronics.video.tv             57789\n",
      "electronics.clocks               38250\n",
      "                                 ...  \n",
      "apparel.skirt                        4\n",
      "apparel.shorts                       2\n",
      "apparel.jumper                       2\n",
      "construction.tools.soldering         1\n",
      "apparel.jacket                       1\n",
      "Name: category_code, Length: 122, dtype: int64\n"
     ]
    }
   ],
   "source": [
    "#colonna 'category_code'\n",
    "print(df[\"category_code\"].value_counts())"
   ]
  },
  {
   "cell_type": "markdown",
   "metadata": {
    "pycharm": {
     "name": "#%% md\n"
    }
   },
   "source": [
    "\n",
    "ricalcoliamo:\n",
    "\n",
    "- category: categoria\n",
    "\n",
    "- subcategory: sottocategoria\n"
   ]
  },
  {
   "cell_type": "code",
   "execution_count": 68,
   "metadata": {
    "pycharm": {
     "is_executing": true,
     "name": "#%%\n"
    }
   },
   "outputs": [],
   "source": [
    "df['category'] = df['category_code'].apply(estrazione_codice_categoria, livello=0)\n",
    "df['subcategory'] = df['category_code'].apply(estrazione_codice_categoria, livello=1)"
   ]
  },
  {
   "cell_type": "code",
   "execution_count": 69,
   "metadata": {
    "pycharm": {
     "is_executing": true,
     "name": "#%%\n"
    }
   },
   "outputs": [
    {
     "name": "stdout",
     "output_type": "stream",
     "text": [
      "14\n"
     ]
    },
    {
     "data": {
      "text/plain": [
       "electronics     1097233\n",
       "NaN              279151\n",
       "appliances       167358\n",
       "computers         55289\n",
       "auto              19687\n",
       "construction      18144\n",
       "furniture         10708\n",
       "kids               8134\n",
       "apparel            8028\n",
       "sport              2292\n",
       "accessories        2136\n",
       "medicine            832\n",
       "stationery          240\n",
       "country_yard        133\n",
       "Name: category, dtype: int64"
      ]
     },
     "execution_count": 69,
     "metadata": {},
     "output_type": "execute_result"
    }
   ],
   "source": [
    "print(df[\"category\"].nunique())\n",
    "df[\"category\"].value_counts()"
   ]
  },
  {
   "cell_type": "code",
   "execution_count": 70,
   "metadata": {
    "pycharm": {
     "is_executing": true,
     "name": "#%%\n"
    }
   },
   "outputs": [
    {
     "name": "stdout",
     "output_type": "stream",
     "text": [
      "57\n"
     ]
    },
    {
     "data": {
      "text/plain": [
       "smartphone        887783\n",
       "NaN               279151\n",
       "kitchen           109357\n",
       "audio              88271\n",
       "video              58018\n",
       "environment        42605\n",
       "clocks             38250\n",
       "notebook           31217\n",
       "accessories        19687\n",
       "tools              18634\n",
       "tablet             14743\n",
       "peripherals        11319\n",
       "telephone           9080\n",
       "iron                7748\n",
       "shoes               7082\n",
       "desktop             6463\n",
       "components          5862\n",
       "personal            5246\n",
       "sewing_machine      4226\n",
       "living_room         4087\n",
       "bedroom             3479\n",
       "carriage            3253\n",
       "bag                 1797\n",
       "toys                1563\n",
       "bicycle             1531\n",
       "skates              1426\n",
       "camera              1088\n",
       "ironing_board       1018\n",
       "fmcg                 866\n",
       "ebooks               770\n",
       "trainer              721\n",
       "dolls                549\n",
       "costume              489\n",
       "swing                477\n",
       "wallet               310\n",
       "bathroom             260\n",
       "cartrige             240\n",
       "jeans                140\n",
       "underwear             97\n",
       "lawn_mower            94\n",
       "tshirt                77\n",
       "universal             40\n",
       "cultivator            39\n",
       "shirt                 38\n",
       "umbrella              29\n",
       "sock                  28\n",
       "trousers              22\n",
       "belt                  21\n",
       "tennis                18\n",
       "ski                   16\n",
       "dress                 15\n",
       "scarf                 10\n",
       "snowboard              6\n",
       "skirt                  4\n",
       "shorts                 2\n",
       "jumper                 2\n",
       "jacket                 1\n",
       "Name: subcategory, dtype: int64"
      ]
     },
     "execution_count": 70,
     "metadata": {},
     "output_type": "execute_result"
    }
   ],
   "source": [
    "print(df[\"subcategory\"].nunique())\n",
    "df[\"subcategory\"].value_counts()"
   ]
  },
  {
   "cell_type": "code",
   "execution_count": 71,
   "metadata": {
    "pycharm": {
     "is_executing": true,
     "name": "#%%\n"
    }
   },
   "outputs": [],
   "source": [
    "df = df.drop(columns=['category_code'])"
   ]
  },
  {
   "cell_type": "code",
   "execution_count": 72,
   "metadata": {
    "pycharm": {
     "is_executing": true,
     "name": "#%%\n"
    }
   },
   "outputs": [
    {
     "data": {
      "text/html": [
       "<div>\n",
       "<style scoped>\n",
       "    .dataframe tbody tr th:only-of-type {\n",
       "        vertical-align: middle;\n",
       "    }\n",
       "\n",
       "    .dataframe tbody tr th {\n",
       "        vertical-align: top;\n",
       "    }\n",
       "\n",
       "    .dataframe thead th {\n",
       "        text-align: right;\n",
       "    }\n",
       "</style>\n",
       "<table border=\"1\" class=\"dataframe\">\n",
       "  <thead>\n",
       "    <tr style=\"text-align: right;\">\n",
       "      <th></th>\n",
       "      <th>event_time</th>\n",
       "      <th>event_type</th>\n",
       "      <th>product_id</th>\n",
       "      <th>category_id</th>\n",
       "      <th>brand</th>\n",
       "      <th>price</th>\n",
       "      <th>category</th>\n",
       "      <th>subcategory</th>\n",
       "    </tr>\n",
       "  </thead>\n",
       "  <tbody>\n",
       "    <tr>\n",
       "      <th>162</th>\n",
       "      <td>2019-10-01 00:02:14</td>\n",
       "      <td>purchase</td>\n",
       "      <td>1004856</td>\n",
       "      <td>2053013555631882655</td>\n",
       "      <td>samsung</td>\n",
       "      <td>130.76</td>\n",
       "      <td>electronics</td>\n",
       "      <td>smartphone</td>\n",
       "    </tr>\n",
       "    <tr>\n",
       "      <th>308</th>\n",
       "      <td>2019-10-01 00:04:37</td>\n",
       "      <td>purchase</td>\n",
       "      <td>1002532</td>\n",
       "      <td>2053013555631882655</td>\n",
       "      <td>apple</td>\n",
       "      <td>642.69</td>\n",
       "      <td>electronics</td>\n",
       "      <td>smartphone</td>\n",
       "    </tr>\n",
       "    <tr>\n",
       "      <th>331</th>\n",
       "      <td>2019-10-01 00:05:14</td>\n",
       "      <td>cart</td>\n",
       "      <td>5100816</td>\n",
       "      <td>2053013553375346967</td>\n",
       "      <td>xiaomi</td>\n",
       "      <td>29.51</td>\n",
       "      <td>NaN</td>\n",
       "      <td>NaN</td>\n",
       "    </tr>\n",
       "  </tbody>\n",
       "</table>\n",
       "</div>"
      ],
      "text/plain": [
       "             event_time event_type product_id          category_id    brand  \\\n",
       "162 2019-10-01 00:02:14   purchase    1004856  2053013555631882655  samsung   \n",
       "308 2019-10-01 00:04:37   purchase    1002532  2053013555631882655    apple   \n",
       "331 2019-10-01 00:05:14       cart    5100816  2053013553375346967   xiaomi   \n",
       "\n",
       "     price     category subcategory  \n",
       "162 130.76  electronics  smartphone  \n",
       "308 642.69  electronics  smartphone  \n",
       "331  29.51          NaN         NaN  "
      ]
     },
     "execution_count": 72,
     "metadata": {},
     "output_type": "execute_result"
    }
   ],
   "source": [
    "df.head(3)"
   ]
  },
  {
   "cell_type": "code",
   "execution_count": 73,
   "metadata": {
    "pycharm": {
     "is_executing": true,
     "name": "#%%\n"
    }
   },
   "outputs": [
    {
     "name": "stdout",
     "output_type": "stream",
     "text": [
      "ci sono 1 colonne con elementi mancanti : \n",
      "[('brand', 77111)]\n"
     ]
    }
   ],
   "source": [
    "sum_result = df.isna().sum(axis=0).sort_values(ascending=False)\n",
    "missing_values_columns = sum_result[sum_result > 0]\n",
    "print('ci sono %s colonne con elementi mancanti : \\n%s' % (missing_values_columns.count(), [(index, value) for (index, value) in missing_values_columns.iteritems()]))"
   ]
  },
  {
   "cell_type": "code",
   "execution_count": 74,
   "metadata": {
    "pycharm": {
     "is_executing": true,
     "name": "#%%\n"
    }
   },
   "outputs": [
    {
     "name": "stdout",
     "output_type": "stream",
     "text": [
      "event_time         0\n",
      "event_type         0\n",
      "product_id         0\n",
      "category_id        0\n",
      "brand          77111\n",
      "price              0\n",
      "category           0\n",
      "subcategory        0\n",
      "dtype: int64\n",
      "numero totale di elementi mancanti 77111\n"
     ]
    }
   ],
   "source": [
    "nulls = df.isnull().sum()\n",
    "print(nulls)\n",
    "print(f'numero totale di elementi mancanti {nulls.sum()}')"
   ]
  },
  {
   "cell_type": "markdown",
   "metadata": {},
   "source": [
    "- **Pulizia dei dati assenti**"
   ]
  },
  {
   "cell_type": "markdown",
   "metadata": {},
   "source": [
    "\n",
    "Un 'brand' è molto importante per la decisione di acquisto di un prodotto, non possiamo escluderlo. In questo modo, sceglieremo di sostituirli con un valore fisso, ad esempio \"no brand\"."
   ]
  },
  {
   "cell_type": "code",
   "execution_count": 75,
   "metadata": {
    "pycharm": {
     "is_executing": true,
     "name": "#%%\n"
    }
   },
   "outputs": [],
   "source": [
    "df['brand'] = df['brand'].astype('string')"
   ]
  },
  {
   "cell_type": "code",
   "execution_count": 76,
   "metadata": {
    "pycharm": {
     "is_executing": true,
     "name": "#%%\n"
    }
   },
   "outputs": [],
   "source": [
    "df.update(df['brand'].fillna('no brand'))"
   ]
  },
  {
   "cell_type": "code",
   "execution_count": 77,
   "metadata": {
    "pycharm": {
     "is_executing": true,
     "name": "#%%\n"
    }
   },
   "outputs": [],
   "source": [
    "df['brand'] = df['brand'].astype('category')"
   ]
  },
  {
   "cell_type": "code",
   "execution_count": 78,
   "metadata": {
    "pycharm": {
     "is_executing": true,
     "name": "#%%\n"
    }
   },
   "outputs": [
    {
     "data": {
      "text/html": [
       "<div>\n",
       "<style scoped>\n",
       "    .dataframe tbody tr th:only-of-type {\n",
       "        vertical-align: middle;\n",
       "    }\n",
       "\n",
       "    .dataframe tbody tr th {\n",
       "        vertical-align: top;\n",
       "    }\n",
       "\n",
       "    .dataframe thead th {\n",
       "        text-align: right;\n",
       "    }\n",
       "</style>\n",
       "<table border=\"1\" class=\"dataframe\">\n",
       "  <thead>\n",
       "    <tr style=\"text-align: right;\">\n",
       "      <th></th>\n",
       "      <th>event_time</th>\n",
       "      <th>event_type</th>\n",
       "      <th>product_id</th>\n",
       "      <th>category_id</th>\n",
       "      <th>brand</th>\n",
       "      <th>price</th>\n",
       "      <th>category</th>\n",
       "      <th>subcategory</th>\n",
       "    </tr>\n",
       "  </thead>\n",
       "  <tbody>\n",
       "    <tr>\n",
       "      <th>162</th>\n",
       "      <td>2019-10-01 00:02:14</td>\n",
       "      <td>purchase</td>\n",
       "      <td>1004856</td>\n",
       "      <td>2053013555631882655</td>\n",
       "      <td>samsung</td>\n",
       "      <td>130.76</td>\n",
       "      <td>electronics</td>\n",
       "      <td>smartphone</td>\n",
       "    </tr>\n",
       "    <tr>\n",
       "      <th>308</th>\n",
       "      <td>2019-10-01 00:04:37</td>\n",
       "      <td>purchase</td>\n",
       "      <td>1002532</td>\n",
       "      <td>2053013555631882655</td>\n",
       "      <td>apple</td>\n",
       "      <td>642.69</td>\n",
       "      <td>electronics</td>\n",
       "      <td>smartphone</td>\n",
       "    </tr>\n",
       "    <tr>\n",
       "      <th>331</th>\n",
       "      <td>2019-10-01 00:05:14</td>\n",
       "      <td>cart</td>\n",
       "      <td>5100816</td>\n",
       "      <td>2053013553375346967</td>\n",
       "      <td>xiaomi</td>\n",
       "      <td>29.51</td>\n",
       "      <td>NaN</td>\n",
       "      <td>NaN</td>\n",
       "    </tr>\n",
       "    <tr>\n",
       "      <th>379</th>\n",
       "      <td>2019-10-01 00:06:02</td>\n",
       "      <td>purchase</td>\n",
       "      <td>5100816</td>\n",
       "      <td>2053013553375346967</td>\n",
       "      <td>xiaomi</td>\n",
       "      <td>29.51</td>\n",
       "      <td>NaN</td>\n",
       "      <td>NaN</td>\n",
       "    </tr>\n",
       "    <tr>\n",
       "      <th>442</th>\n",
       "      <td>2019-10-01 00:07:07</td>\n",
       "      <td>purchase</td>\n",
       "      <td>13800054</td>\n",
       "      <td>2053013557418656265</td>\n",
       "      <td>santeri</td>\n",
       "      <td>54.42</td>\n",
       "      <td>furniture</td>\n",
       "      <td>bathroom</td>\n",
       "    </tr>\n",
       "  </tbody>\n",
       "</table>\n",
       "</div>"
      ],
      "text/plain": [
       "             event_time event_type product_id          category_id    brand  \\\n",
       "162 2019-10-01 00:02:14   purchase    1004856  2053013555631882655  samsung   \n",
       "308 2019-10-01 00:04:37   purchase    1002532  2053013555631882655    apple   \n",
       "331 2019-10-01 00:05:14       cart    5100816  2053013553375346967   xiaomi   \n",
       "379 2019-10-01 00:06:02   purchase    5100816  2053013553375346967   xiaomi   \n",
       "442 2019-10-01 00:07:07   purchase   13800054  2053013557418656265  santeri   \n",
       "\n",
       "     price     category subcategory  \n",
       "162 130.76  electronics  smartphone  \n",
       "308 642.69  electronics  smartphone  \n",
       "331  29.51          NaN         NaN  \n",
       "379  29.51          NaN         NaN  \n",
       "442  54.42    furniture    bathroom  "
      ]
     },
     "execution_count": 78,
     "metadata": {},
     "output_type": "execute_result"
    }
   ],
   "source": [
    "df.head()"
   ]
  },
  {
   "cell_type": "code",
   "execution_count": 79,
   "metadata": {
    "pycharm": {
     "is_executing": true,
     "name": "#%%\n"
    }
   },
   "outputs": [
    {
     "name": "stdout",
     "output_type": "stream",
     "text": [
      "0\n"
     ]
    }
   ],
   "source": [
    "print(df.isnull().sum().sum())"
   ]
  },
  {
   "cell_type": "markdown",
   "metadata": {},
   "source": [
    "**Feature Engineering**\n",
    "\n",
    "Aggiunta / costruzione di nuove features al dataset:\n",
    "\n",
    "\n",
    "- event_weekday: giorno della settimana dell'evento\n",
    "- giorno\n",
    "- ora\n",
    "- minuto\n",
    "- secondo\n",
    "- is_purchased: se l'articolo inserito nel carrello é stato acquistato"
   ]
  },
  {
   "cell_type": "code",
   "execution_count": 80,
   "metadata": {
    "pycharm": {
     "is_executing": true,
     "name": "#%%\n"
    }
   },
   "outputs": [],
   "source": [
    "#giorno della settimana\n",
    "df['event_weekday'] = df['event_time'].dt.weekday"
   ]
  },
  {
   "cell_type": "code",
   "execution_count": 81,
   "metadata": {
    "pycharm": {
     "is_executing": true,
     "name": "#%%\n"
    }
   },
   "outputs": [
    {
     "data": {
      "text/html": [
       "<div>\n",
       "<style scoped>\n",
       "    .dataframe tbody tr th:only-of-type {\n",
       "        vertical-align: middle;\n",
       "    }\n",
       "\n",
       "    .dataframe tbody tr th {\n",
       "        vertical-align: top;\n",
       "    }\n",
       "\n",
       "    .dataframe thead th {\n",
       "        text-align: right;\n",
       "    }\n",
       "</style>\n",
       "<table border=\"1\" class=\"dataframe\">\n",
       "  <thead>\n",
       "    <tr style=\"text-align: right;\">\n",
       "      <th></th>\n",
       "      <th>event_time</th>\n",
       "      <th>event_type</th>\n",
       "      <th>product_id</th>\n",
       "      <th>category_id</th>\n",
       "      <th>brand</th>\n",
       "      <th>price</th>\n",
       "      <th>category</th>\n",
       "      <th>subcategory</th>\n",
       "      <th>event_weekday</th>\n",
       "    </tr>\n",
       "  </thead>\n",
       "  <tbody>\n",
       "    <tr>\n",
       "      <th>162</th>\n",
       "      <td>2019-10-01 00:02:14</td>\n",
       "      <td>purchase</td>\n",
       "      <td>1004856</td>\n",
       "      <td>2053013555631882655</td>\n",
       "      <td>samsung</td>\n",
       "      <td>130.76</td>\n",
       "      <td>electronics</td>\n",
       "      <td>smartphone</td>\n",
       "      <td>1</td>\n",
       "    </tr>\n",
       "    <tr>\n",
       "      <th>308</th>\n",
       "      <td>2019-10-01 00:04:37</td>\n",
       "      <td>purchase</td>\n",
       "      <td>1002532</td>\n",
       "      <td>2053013555631882655</td>\n",
       "      <td>apple</td>\n",
       "      <td>642.69</td>\n",
       "      <td>electronics</td>\n",
       "      <td>smartphone</td>\n",
       "      <td>1</td>\n",
       "    </tr>\n",
       "    <tr>\n",
       "      <th>331</th>\n",
       "      <td>2019-10-01 00:05:14</td>\n",
       "      <td>cart</td>\n",
       "      <td>5100816</td>\n",
       "      <td>2053013553375346967</td>\n",
       "      <td>xiaomi</td>\n",
       "      <td>29.51</td>\n",
       "      <td>NaN</td>\n",
       "      <td>NaN</td>\n",
       "      <td>1</td>\n",
       "    </tr>\n",
       "  </tbody>\n",
       "</table>\n",
       "</div>"
      ],
      "text/plain": [
       "             event_time event_type product_id          category_id    brand  \\\n",
       "162 2019-10-01 00:02:14   purchase    1004856  2053013555631882655  samsung   \n",
       "308 2019-10-01 00:04:37   purchase    1002532  2053013555631882655    apple   \n",
       "331 2019-10-01 00:05:14       cart    5100816  2053013553375346967   xiaomi   \n",
       "\n",
       "     price     category subcategory  event_weekday  \n",
       "162 130.76  electronics  smartphone              1  \n",
       "308 642.69  electronics  smartphone              1  \n",
       "331  29.51          NaN         NaN              1  "
      ]
     },
     "execution_count": 81,
     "metadata": {},
     "output_type": "execute_result"
    }
   ],
   "source": [
    "df.head(3)"
   ]
  },
  {
   "cell_type": "code",
   "execution_count": 82,
   "metadata": {
    "pycharm": {
     "is_executing": true,
     "name": "#%%\n"
    }
   },
   "outputs": [],
   "source": [
    "#anno non importa perché sono tutti dello stesso anno.\n",
    "#anche il mese ha importanza perché stiamo analizzando un singolo mese.\n",
    "\n",
    "df.event_time = pd.to_datetime(df.event_time, utc=True)\n",
    "\n",
    "df['day'] = df['event_time'].dt.day\n",
    "df['hour'] = df['event_time'].dt.hour\n",
    "df['minute'] = df['event_time'].dt.minute\n",
    "df['seconds'] = df['event_time'].dt.second"
   ]
  },
  {
   "cell_type": "code",
   "execution_count": 83,
   "metadata": {
    "pycharm": {
     "is_executing": true,
     "name": "#%%\n"
    }
   },
   "outputs": [
    {
     "data": {
      "text/html": [
       "<div>\n",
       "<style scoped>\n",
       "    .dataframe tbody tr th:only-of-type {\n",
       "        vertical-align: middle;\n",
       "    }\n",
       "\n",
       "    .dataframe tbody tr th {\n",
       "        vertical-align: top;\n",
       "    }\n",
       "\n",
       "    .dataframe thead th {\n",
       "        text-align: right;\n",
       "    }\n",
       "</style>\n",
       "<table border=\"1\" class=\"dataframe\">\n",
       "  <thead>\n",
       "    <tr style=\"text-align: right;\">\n",
       "      <th></th>\n",
       "      <th>event_time</th>\n",
       "      <th>event_type</th>\n",
       "      <th>product_id</th>\n",
       "      <th>category_id</th>\n",
       "      <th>brand</th>\n",
       "      <th>price</th>\n",
       "      <th>category</th>\n",
       "      <th>subcategory</th>\n",
       "      <th>event_weekday</th>\n",
       "      <th>day</th>\n",
       "      <th>hour</th>\n",
       "      <th>minute</th>\n",
       "      <th>seconds</th>\n",
       "    </tr>\n",
       "  </thead>\n",
       "  <tbody>\n",
       "    <tr>\n",
       "      <th>162</th>\n",
       "      <td>2019-10-01 00:02:14+00:00</td>\n",
       "      <td>purchase</td>\n",
       "      <td>1004856</td>\n",
       "      <td>2053013555631882655</td>\n",
       "      <td>samsung</td>\n",
       "      <td>130.76</td>\n",
       "      <td>electronics</td>\n",
       "      <td>smartphone</td>\n",
       "      <td>1</td>\n",
       "      <td>1</td>\n",
       "      <td>0</td>\n",
       "      <td>2</td>\n",
       "      <td>14</td>\n",
       "    </tr>\n",
       "    <tr>\n",
       "      <th>308</th>\n",
       "      <td>2019-10-01 00:04:37+00:00</td>\n",
       "      <td>purchase</td>\n",
       "      <td>1002532</td>\n",
       "      <td>2053013555631882655</td>\n",
       "      <td>apple</td>\n",
       "      <td>642.69</td>\n",
       "      <td>electronics</td>\n",
       "      <td>smartphone</td>\n",
       "      <td>1</td>\n",
       "      <td>1</td>\n",
       "      <td>0</td>\n",
       "      <td>4</td>\n",
       "      <td>37</td>\n",
       "    </tr>\n",
       "    <tr>\n",
       "      <th>331</th>\n",
       "      <td>2019-10-01 00:05:14+00:00</td>\n",
       "      <td>cart</td>\n",
       "      <td>5100816</td>\n",
       "      <td>2053013553375346967</td>\n",
       "      <td>xiaomi</td>\n",
       "      <td>29.51</td>\n",
       "      <td>NaN</td>\n",
       "      <td>NaN</td>\n",
       "      <td>1</td>\n",
       "      <td>1</td>\n",
       "      <td>0</td>\n",
       "      <td>5</td>\n",
       "      <td>14</td>\n",
       "    </tr>\n",
       "  </tbody>\n",
       "</table>\n",
       "</div>"
      ],
      "text/plain": [
       "                   event_time event_type product_id          category_id  \\\n",
       "162 2019-10-01 00:02:14+00:00   purchase    1004856  2053013555631882655   \n",
       "308 2019-10-01 00:04:37+00:00   purchase    1002532  2053013555631882655   \n",
       "331 2019-10-01 00:05:14+00:00       cart    5100816  2053013553375346967   \n",
       "\n",
       "       brand  price     category subcategory  event_weekday  day  hour  \\\n",
       "162  samsung 130.76  electronics  smartphone              1    1     0   \n",
       "308    apple 642.69  electronics  smartphone              1    1     0   \n",
       "331   xiaomi  29.51          NaN         NaN              1    1     0   \n",
       "\n",
       "     minute  seconds  \n",
       "162       2       14  \n",
       "308       4       37  \n",
       "331       5       14  "
      ]
     },
     "execution_count": 83,
     "metadata": {},
     "output_type": "execute_result"
    }
   ],
   "source": [
    "df.head(3)"
   ]
  },
  {
   "cell_type": "code",
   "execution_count": 84,
   "metadata": {
    "pycharm": {
     "is_executing": true,
     "name": "#%%\n"
    }
   },
   "outputs": [],
   "source": [
    "#ora possiamo escludere 'event_time' poichè abbiamo gia estratto i dati di nostro interesse\n",
    "df = df.drop(columns=['event_time'])"
   ]
  },
  {
   "cell_type": "code",
   "execution_count": 85,
   "metadata": {
    "pycharm": {
     "is_executing": true,
     "name": "#%%\n"
    }
   },
   "outputs": [
    {
     "data": {
      "text/html": [
       "<div>\n",
       "<style scoped>\n",
       "    .dataframe tbody tr th:only-of-type {\n",
       "        vertical-align: middle;\n",
       "    }\n",
       "\n",
       "    .dataframe tbody tr th {\n",
       "        vertical-align: top;\n",
       "    }\n",
       "\n",
       "    .dataframe thead th {\n",
       "        text-align: right;\n",
       "    }\n",
       "</style>\n",
       "<table border=\"1\" class=\"dataframe\">\n",
       "  <thead>\n",
       "    <tr style=\"text-align: right;\">\n",
       "      <th></th>\n",
       "      <th>event_type</th>\n",
       "      <th>product_id</th>\n",
       "      <th>category_id</th>\n",
       "      <th>brand</th>\n",
       "      <th>price</th>\n",
       "      <th>category</th>\n",
       "      <th>subcategory</th>\n",
       "      <th>event_weekday</th>\n",
       "      <th>day</th>\n",
       "      <th>hour</th>\n",
       "      <th>minute</th>\n",
       "      <th>seconds</th>\n",
       "    </tr>\n",
       "  </thead>\n",
       "  <tbody>\n",
       "    <tr>\n",
       "      <th>162</th>\n",
       "      <td>purchase</td>\n",
       "      <td>1004856</td>\n",
       "      <td>2053013555631882655</td>\n",
       "      <td>samsung</td>\n",
       "      <td>130.76</td>\n",
       "      <td>electronics</td>\n",
       "      <td>smartphone</td>\n",
       "      <td>1</td>\n",
       "      <td>1</td>\n",
       "      <td>0</td>\n",
       "      <td>2</td>\n",
       "      <td>14</td>\n",
       "    </tr>\n",
       "    <tr>\n",
       "      <th>308</th>\n",
       "      <td>purchase</td>\n",
       "      <td>1002532</td>\n",
       "      <td>2053013555631882655</td>\n",
       "      <td>apple</td>\n",
       "      <td>642.69</td>\n",
       "      <td>electronics</td>\n",
       "      <td>smartphone</td>\n",
       "      <td>1</td>\n",
       "      <td>1</td>\n",
       "      <td>0</td>\n",
       "      <td>4</td>\n",
       "      <td>37</td>\n",
       "    </tr>\n",
       "    <tr>\n",
       "      <th>331</th>\n",
       "      <td>cart</td>\n",
       "      <td>5100816</td>\n",
       "      <td>2053013553375346967</td>\n",
       "      <td>xiaomi</td>\n",
       "      <td>29.51</td>\n",
       "      <td>NaN</td>\n",
       "      <td>NaN</td>\n",
       "      <td>1</td>\n",
       "      <td>1</td>\n",
       "      <td>0</td>\n",
       "      <td>5</td>\n",
       "      <td>14</td>\n",
       "    </tr>\n",
       "  </tbody>\n",
       "</table>\n",
       "</div>"
      ],
      "text/plain": [
       "    event_type product_id          category_id    brand  price     category  \\\n",
       "162   purchase    1004856  2053013555631882655  samsung 130.76  electronics   \n",
       "308   purchase    1002532  2053013555631882655    apple 642.69  electronics   \n",
       "331       cart    5100816  2053013553375346967   xiaomi  29.51          NaN   \n",
       "\n",
       "    subcategory  event_weekday  day  hour  minute  seconds  \n",
       "162  smartphone              1    1     0       2       14  \n",
       "308  smartphone              1    1     0       4       37  \n",
       "331         NaN              1    1     0       5       14  "
      ]
     },
     "execution_count": 85,
     "metadata": {},
     "output_type": "execute_result"
    }
   ],
   "source": [
    "df.head(3)"
   ]
  },
  {
   "cell_type": "code",
   "execution_count": 86,
   "metadata": {
    "pycharm": {
     "is_executing": true,
     "name": "#%%\n"
    }
   },
   "outputs": [],
   "source": [
    "# se l'articolo inserito nel carrello è stato acquistato\n",
    "\n",
    "df[\"is_purchased\"] = np.where(df[\"event_type\"]==\"purchase\",True,False)"
   ]
  },
  {
   "cell_type": "code",
   "execution_count": 87,
   "metadata": {
    "pycharm": {
     "is_executing": true,
     "name": "#%%\n"
    }
   },
   "outputs": [
    {
     "data": {
      "text/html": [
       "<div>\n",
       "<style scoped>\n",
       "    .dataframe tbody tr th:only-of-type {\n",
       "        vertical-align: middle;\n",
       "    }\n",
       "\n",
       "    .dataframe tbody tr th {\n",
       "        vertical-align: top;\n",
       "    }\n",
       "\n",
       "    .dataframe thead th {\n",
       "        text-align: right;\n",
       "    }\n",
       "</style>\n",
       "<table border=\"1\" class=\"dataframe\">\n",
       "  <thead>\n",
       "    <tr style=\"text-align: right;\">\n",
       "      <th></th>\n",
       "      <th>event_type</th>\n",
       "      <th>product_id</th>\n",
       "      <th>category_id</th>\n",
       "      <th>brand</th>\n",
       "      <th>price</th>\n",
       "      <th>category</th>\n",
       "      <th>subcategory</th>\n",
       "      <th>event_weekday</th>\n",
       "      <th>day</th>\n",
       "      <th>hour</th>\n",
       "      <th>minute</th>\n",
       "      <th>seconds</th>\n",
       "      <th>is_purchased</th>\n",
       "    </tr>\n",
       "  </thead>\n",
       "  <tbody>\n",
       "    <tr>\n",
       "      <th>162</th>\n",
       "      <td>purchase</td>\n",
       "      <td>1004856</td>\n",
       "      <td>2053013555631882655</td>\n",
       "      <td>samsung</td>\n",
       "      <td>130.76</td>\n",
       "      <td>electronics</td>\n",
       "      <td>smartphone</td>\n",
       "      <td>1</td>\n",
       "      <td>1</td>\n",
       "      <td>0</td>\n",
       "      <td>2</td>\n",
       "      <td>14</td>\n",
       "      <td>True</td>\n",
       "    </tr>\n",
       "    <tr>\n",
       "      <th>308</th>\n",
       "      <td>purchase</td>\n",
       "      <td>1002532</td>\n",
       "      <td>2053013555631882655</td>\n",
       "      <td>apple</td>\n",
       "      <td>642.69</td>\n",
       "      <td>electronics</td>\n",
       "      <td>smartphone</td>\n",
       "      <td>1</td>\n",
       "      <td>1</td>\n",
       "      <td>0</td>\n",
       "      <td>4</td>\n",
       "      <td>37</td>\n",
       "      <td>True</td>\n",
       "    </tr>\n",
       "    <tr>\n",
       "      <th>331</th>\n",
       "      <td>cart</td>\n",
       "      <td>5100816</td>\n",
       "      <td>2053013553375346967</td>\n",
       "      <td>xiaomi</td>\n",
       "      <td>29.51</td>\n",
       "      <td>NaN</td>\n",
       "      <td>NaN</td>\n",
       "      <td>1</td>\n",
       "      <td>1</td>\n",
       "      <td>0</td>\n",
       "      <td>5</td>\n",
       "      <td>14</td>\n",
       "      <td>False</td>\n",
       "    </tr>\n",
       "  </tbody>\n",
       "</table>\n",
       "</div>"
      ],
      "text/plain": [
       "    event_type product_id          category_id    brand  price     category  \\\n",
       "162   purchase    1004856  2053013555631882655  samsung 130.76  electronics   \n",
       "308   purchase    1002532  2053013555631882655    apple 642.69  electronics   \n",
       "331       cart    5100816  2053013553375346967   xiaomi  29.51          NaN   \n",
       "\n",
       "    subcategory  event_weekday  day  hour  minute  seconds  is_purchased  \n",
       "162  smartphone              1    1     0       2       14          True  \n",
       "308  smartphone              1    1     0       4       37          True  \n",
       "331         NaN              1    1     0       5       14         False  "
      ]
     },
     "execution_count": 87,
     "metadata": {},
     "output_type": "execute_result"
    }
   ],
   "source": [
    "df.head(3)"
   ]
  },
  {
   "cell_type": "code",
   "execution_count": 88,
   "metadata": {
    "pycharm": {
     "is_executing": true,
     "name": "#%%\n"
    }
   },
   "outputs": [
    {
     "data": {
      "text/plain": [
       "event_type       category\n",
       "product_id       category\n",
       "category_id      category\n",
       "brand            category\n",
       "price             float64\n",
       "category           object\n",
       "subcategory        object\n",
       "event_weekday       int64\n",
       "day                 int64\n",
       "hour                int64\n",
       "minute              int64\n",
       "seconds             int64\n",
       "is_purchased         bool\n",
       "dtype: object"
      ]
     },
     "execution_count": 88,
     "metadata": {},
     "output_type": "execute_result"
    }
   ],
   "source": [
    "df.dtypes"
   ]
  },
  {
   "cell_type": "code",
   "execution_count": 89,
   "metadata": {
    "pycharm": {
     "is_executing": true,
     "name": "#%%\n"
    }
   },
   "outputs": [
    {
     "data": {
      "image/png": "[encoded data removed]",
      "text/plain": [
       "<Figure size 864x648 with 2 Axes>"
      ]
     },
     "metadata": {
      "needs_background": "light"
     },
     "output_type": "display_data"
    }
   ],
   "source": [
    "#mappa di correlazione\n",
    "corr_mat = df.corr()\n",
    "f, ax = plt.subplots(figsize=(12, 9))\n",
    "sns.heatmap(corr_mat, vmax=0.8, square=True)\n",
    "plt.show()"
   ]
  }
 ],
 "metadata": {
  "kernelspec": {
   "display_name": "Python 3",
   "language": "python",
   "name": "python3"
  },
  "language_info": {
   "codemirror_mode": {
    "name": "ipython",
    "version": 3
   },
   "file_extension": ".py",
   "mimetype": "text/x-python",
   "name": "python",
   "nbconvert_exporter": "python",
   "pygments_lexer": "ipython3",
   "version": "3.7.8"
  }
 },
 "nbformat": 4,
 "nbformat_minor": 1
}